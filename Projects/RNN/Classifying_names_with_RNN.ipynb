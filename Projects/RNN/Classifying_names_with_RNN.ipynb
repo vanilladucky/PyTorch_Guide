{
 "cells": [
  {
   "cell_type": "markdown",
   "metadata": {},
   "source": [
    "### This is from a [tutorial]('https://pytorch.org/tutorials/intermediate/char_rnn_classification_tutorial.html) from the PyTorch website."
   ]
  },
  {
   "cell_type": "markdown",
   "metadata": {},
   "source": [
    "### In this notebook, we will be building and training a basic RNN to classify words. \n",
    "### This seems to be a good start for any of you who wish to learn how to implement RNN using PyTorch.\n",
    "### With RNN, the basics is that we will output a prediction and 'hidden state' at each step, feeding its previous hidden state into each next step.\n",
    "### For this task, we'll train on a few thousand surnames from 18 languages of origin, and predict which language a name is from based on the spelling.\n",
    "### We will use some helper code from the tutorial to convert the names from Unicode to ACSII and come up with a dictinoary of lists of names per language."
   ]
  },
  {
   "cell_type": "code",
   "execution_count": 2,
   "metadata": {},
   "outputs": [
    {
     "name": "stdout",
     "output_type": "stream",
     "text": [
      "['/Users/kimhyunbin/Documents/Python/My own project (Python)/PyTorch_Guide/data/names/Czech.txt', '/Users/kimhyunbin/Documents/Python/My own project (Python)/PyTorch_Guide/data/names/German.txt', '/Users/kimhyunbin/Documents/Python/My own project (Python)/PyTorch_Guide/data/names/Arabic.txt', '/Users/kimhyunbin/Documents/Python/My own project (Python)/PyTorch_Guide/data/names/Japanese.txt', '/Users/kimhyunbin/Documents/Python/My own project (Python)/PyTorch_Guide/data/names/Chinese.txt', '/Users/kimhyunbin/Documents/Python/My own project (Python)/PyTorch_Guide/data/names/Vietnamese.txt', '/Users/kimhyunbin/Documents/Python/My own project (Python)/PyTorch_Guide/data/names/Russian.txt', '/Users/kimhyunbin/Documents/Python/My own project (Python)/PyTorch_Guide/data/names/French.txt', '/Users/kimhyunbin/Documents/Python/My own project (Python)/PyTorch_Guide/data/names/Irish.txt', '/Users/kimhyunbin/Documents/Python/My own project (Python)/PyTorch_Guide/data/names/English.txt', '/Users/kimhyunbin/Documents/Python/My own project (Python)/PyTorch_Guide/data/names/Spanish.txt', '/Users/kimhyunbin/Documents/Python/My own project (Python)/PyTorch_Guide/data/names/Greek.txt', '/Users/kimhyunbin/Documents/Python/My own project (Python)/PyTorch_Guide/data/names/Italian.txt', '/Users/kimhyunbin/Documents/Python/My own project (Python)/PyTorch_Guide/data/names/Portuguese.txt', '/Users/kimhyunbin/Documents/Python/My own project (Python)/PyTorch_Guide/data/names/Scottish.txt', '/Users/kimhyunbin/Documents/Python/My own project (Python)/PyTorch_Guide/data/names/Dutch.txt', '/Users/kimhyunbin/Documents/Python/My own project (Python)/PyTorch_Guide/data/names/Korean.txt', '/Users/kimhyunbin/Documents/Python/My own project (Python)/PyTorch_Guide/data/names/Polish.txt']\n",
      "Slusarski\n"
     ]
    }
   ],
   "source": [
    "from __future__ import unicode_literals, print_function, division\n",
    "from io import open\n",
    "import glob\n",
    "import os\n",
    "\n",
    "def findFiles(path): return glob.glob(path)\n",
    "\n",
    "home = ' '\n",
    "\n",
    "print(findFiles(home+'data/names/*.txt'))\n",
    "\n",
    "import unicodedata\n",
    "import string\n",
    "\n",
    "all_letters = string.ascii_letters + \" .,;'\"\n",
    "n_letters = len(all_letters)\n",
    "\n",
    "# Turn a Unicode string to plain ASCII, thanks to https://stackoverflow.com/a/518232/2809427\n",
    "def unicodeToAscii(s):\n",
    "    return ''.join(\n",
    "        c for c in unicodedata.normalize('NFD', s)\n",
    "        if unicodedata.category(c) != 'Mn'\n",
    "        and c in all_letters\n",
    "    )\n",
    "\n",
    "print(unicodeToAscii('Ślusàrski'))\n",
    "\n",
    "# Build the category_lines dictionary, a list of names per language\n",
    "category_lines = {}\n",
    "all_categories = []\n",
    "\n",
    "# Read a file and split into lines\n",
    "def readLines(filename):\n",
    "    lines = open(filename, encoding='utf-8').read().strip().split('\\n')\n",
    "    return [unicodeToAscii(line) for line in lines]\n",
    "\n",
    "for filename in findFiles(home+'data/names/*.txt'):\n",
    "    category = os.path.splitext(os.path.basename(filename))[0]\n",
    "    all_categories.append(category)\n",
    "    lines = readLines(filename)\n",
    "    category_lines[category] = lines\n",
    "\n",
    "n_categories = len(all_categories)"
   ]
  },
  {
   "cell_type": "markdown",
   "metadata": {},
   "source": [
    "### We have *category_lines*, a dictinoary mapping each category (language) to a list of lines (names).\n",
    "### *all_categories* is just a list of languages and *n_categories* is the number of languages we have."
   ]
  },
  {
   "cell_type": "code",
   "execution_count": 3,
   "metadata": {},
   "outputs": [
    {
     "name": "stdout",
     "output_type": "stream",
     "text": [
      "['Abandonato', 'Abatangelo', 'Abatantuono', 'Abate', 'Abategiovanni']\n"
     ]
    }
   ],
   "source": [
    "print(category_lines['Italian'][:5])"
   ]
  },
  {
   "cell_type": "markdown",
   "metadata": {},
   "source": [
    "# Turning names into Tensors"
   ]
  },
  {
   "cell_type": "markdown",
   "metadata": {},
   "source": [
    "### For this task, we would use a one-hot vector of size <1 x n_letters>.\n",
    "### It would be a sparse matrix overall with binary representations of the presence of the respective letters.\n",
    "### The eventual joined representation of a word would be a 2D matrix <line_length x 1 x n_letters>"
   ]
  },
  {
   "cell_type": "code",
   "execution_count": 7,
   "metadata": {},
   "outputs": [
    {
     "name": "stdout",
     "output_type": "stream",
     "text": [
      "tensor([[0., 0., 0., 0., 0., 0., 0., 0., 0., 0., 0., 0., 0., 0., 0., 0., 0., 0.,\n",
      "         0., 0., 0., 0., 0., 0., 0., 0., 0., 0., 0., 0., 0., 0., 0., 0., 0., 1.,\n",
      "         0., 0., 0., 0., 0., 0., 0., 0., 0., 0., 0., 0., 0., 0., 0., 0., 0., 0.,\n",
      "         0., 0., 0.]])\n",
      "torch.Size([5, 1, 57])\n"
     ]
    }
   ],
   "source": [
    "import torch \n",
    "\n",
    "def letterToIndex(letter):\n",
    "    return all_letters.find(letter)\n",
    "\n",
    "def letterToTensor(letter):\n",
    "    tensor = torch.zeros(1, n_letters)\n",
    "    tensor[0][letterToIndex(letter)] = 1\n",
    "    return tensor\n",
    "\n",
    "def lineToTensor(word):\n",
    "    tensor = torch.zeros(len(word), 1, n_letters)\n",
    "    for li, letter in enumerate(word):\n",
    "        tensor[li][0][letterToIndex(letter)] = 1\n",
    "    return tensor\n",
    "\n",
    "print(letterToTensor('J'))\n",
    "\n",
    "print(lineToTensor('Jones').size())"
   ]
  },
  {
   "cell_type": "markdown",
   "metadata": {},
   "source": [
    "### You can understand this as 5 letters in the word 'Jones' and each of the tensor representing individual letters have a single row with 57 columns, each column for every element in the all_letters representation."
   ]
  },
  {
   "cell_type": "markdown",
   "metadata": {},
   "source": [
    "# Creating the Network"
   ]
  },
  {
   "cell_type": "code",
   "execution_count": 11,
   "metadata": {},
   "outputs": [],
   "source": [
    "import torch.nn as nn \n",
    "\n",
    "class RNN(nn.Module):\n",
    "    def __init__(self, input_size, hidden_size, output_size):\n",
    "        super(RNN, self).__init__()\n",
    "\n",
    "        self.hidden_size = hidden_size\n",
    "\n",
    "        self.i2h = nn.Linear(input_size + hidden_size, hidden_size)\n",
    "        self.i2o = nn.Linear(input_size + hidden_size, output_size)\n",
    "        self.softmax = nn.LogSoftmax(dim=1)\n",
    "\n",
    "    def forward(self, input, hidden):\n",
    "        combined = torch.cat((input, hidden),1)\n",
    "        hidden = self.i2h(combined)\n",
    "        output = self.softmax(self.i2o(combined))\n",
    "        return output, hidden\n",
    "\n",
    "    def initHidden(self):\n",
    "        return torch.zeros(1, self.hidden_size)\n",
    "\n",
    "n_hidden = 128\n",
    "rnn = RNN(n_letters, n_hidden, n_categories)"
   ]
  },
  {
   "cell_type": "markdown",
   "metadata": {},
   "source": [
    "### This network will be ran as such.\n",
    "### We will pass an input (the Tensor for the current letter) and a previous hidden state (which is initilized as zeroes first).\n",
    "### We will get back the output (probability of each langugage) and a next hidden state (for the next time step)."
   ]
  },
  {
   "cell_type": "code",
   "execution_count": 16,
   "metadata": {},
   "outputs": [
    {
     "data": {
      "text/plain": [
       "(torch.Size([1, 18]), torch.Size([1, 128]))"
      ]
     },
     "execution_count": 16,
     "metadata": {},
     "output_type": "execute_result"
    }
   ],
   "source": [
    "input = letterToTensor('A')\n",
    "hidden = torch.zeros(1, n_hidden)\n",
    "output, next_hidden = rnn(input, hidden)\n",
    "output.size(), next_hidden.size()"
   ]
  },
  {
   "cell_type": "markdown",
   "metadata": {},
   "source": [
    "### In practice, we would convert the whole letter to Tensors which our model would be able to interpret."
   ]
  },
  {
   "cell_type": "code",
   "execution_count": 17,
   "metadata": {},
   "outputs": [
    {
     "data": {
      "text/plain": [
       "tensor([[-2.9647, -2.8111, -2.7743, -2.9133, -2.8510, -3.0001, -2.8762, -2.7799,\n",
       "         -2.9853, -2.9864, -2.8899, -2.9542, -2.9563, -2.8634, -2.9135, -2.9159,\n",
       "         -2.7841, -2.8538]], grad_fn=<LogSoftmaxBackward0>)"
      ]
     },
     "execution_count": 17,
     "metadata": {},
     "output_type": "execute_result"
    }
   ],
   "source": [
    "input = lineToTensor('Albert')\n",
    "hidden = torch.zeros(1, n_hidden)\n",
    "\n",
    "output, next_hidden = rnn(input[0], hidden)\n",
    "output"
   ]
  },
  {
   "cell_type": "markdown",
   "metadata": {},
   "source": [
    "### The output is a tensor showing the probability for each criteria. \n",
    "### The higher the numerical figure, the more likely it is that the name is from that specific language."
   ]
  },
  {
   "cell_type": "markdown",
   "metadata": {},
   "source": [
    "# Training"
   ]
  },
  {
   "cell_type": "markdown",
   "metadata": {},
   "source": [
    "## Preparing for training"
   ]
  },
  {
   "cell_type": "markdown",
   "metadata": {},
   "source": [
    "### Let's create a helper function to be able to interpret the output of the network."
   ]
  },
  {
   "cell_type": "code",
   "execution_count": 18,
   "metadata": {},
   "outputs": [
    {
     "name": "stdout",
     "output_type": "stream",
     "text": [
      "('Arabic', 2)\n"
     ]
    }
   ],
   "source": [
    "def categoryFromOutput(input):\n",
    "    top_n, top_i = output.topk(1)\n",
    "    category_i = top_i[0].item()\n",
    "    return all_categories[category_i], category_i\n",
    "\n",
    "print(categoryFromOutput(output))"
   ]
  },
  {
   "cell_type": "markdown",
   "metadata": {},
   "source": [
    "### Let's also make a way to get a training example quickly. (The name and it's language)"
   ]
  },
  {
   "cell_type": "code",
   "execution_count": 19,
   "metadata": {},
   "outputs": [
    {
     "name": "stdout",
     "output_type": "stream",
     "text": [
      "category = German / line = Achterberg\n",
      "category = Irish / line = Brian\n",
      "category = Arabic / line = Asker\n",
      "category = Irish / line = Braden\n",
      "category = Arabic / line = Sarraf\n",
      "category = Portuguese / line = Fonseca\n",
      "category = Japanese / line = Inihara\n",
      "category = Arabic / line = Basara\n",
      "category = Vietnamese / line = Trang\n",
      "category = Vietnamese / line = Trang\n"
     ]
    }
   ],
   "source": [
    "import random\n",
    "\n",
    "def randomChoice(l):\n",
    "    return l[random.randint(0, len(l)-1)]\n",
    "\n",
    "def randomTrainingExample():\n",
    "    category = randomChoice(all_categories)\n",
    "    line = randomChoice(category_lines[category])\n",
    "    category_tensor = torch.tensor([all_categories.index(category)], dtype=torch.long)\n",
    "    line_tensor = lineToTensor(line)\n",
    "    return category, line, category_tensor, line_tensor\n",
    "\n",
    "for i in range(10):\n",
    "    category, line, category_tensor, line_tensor = randomTrainingExample()\n",
    "    print('category =', category, '/ line =', line)"
   ]
  },
  {
   "cell_type": "markdown",
   "metadata": {},
   "source": [
    "## Training the Network"
   ]
  },
  {
   "cell_type": "code",
   "execution_count": 21,
   "metadata": {},
   "outputs": [],
   "source": [
    "# Loss function\n",
    "criterion = nn.NLLLoss()\n",
    "\n",
    "lr = 0.005\n",
    "\n",
    "def train(category_tensor, line_tensor):\n",
    "    hidden = rnn.initHidden()\n",
    "\n",
    "    rnn.zero_grad()\n",
    "\n",
    "    for i in range(line_tensor.size()[0]):\n",
    "        output, hidden = rnn(line_tensor[i], hidden)\n",
    "\n",
    "    loss = criterion(output, category_tensor)\n",
    "    loss.backward() # Backpropagation of loss\n",
    "\n",
    "    for p in rnn.parameters():\n",
    "        p.data.add_(p.grad.data, alpha = -lr) # Optimizing\n",
    "\n",
    "    return output, loss.item()"
   ]
  },
  {
   "cell_type": "markdown",
   "metadata": {},
   "source": [
    "### Now, we just need to run this through a bunch of examples."
   ]
  },
  {
   "cell_type": "code",
   "execution_count": 22,
   "metadata": {},
   "outputs": [
    {
     "name": "stdout",
     "output_type": "stream",
     "text": [
      "5000 5% (0m 1s) 2.8030 Naggia / Portuguese ✗ (Italian)\n",
      "10000 10% (0m 3s) 1.3517 Grzeskiewicz / Greek ✗ (Polish)\n",
      "15000 15% (0m 5s) 1.2700 Dam / Chinese ✗ (Vietnamese)\n",
      "20000 20% (0m 7s) 2.4974 Cunningham / Irish ✗ (Scottish)\n",
      "25000 25% (0m 8s) 2.9721 Yasui / Arabic ✗ (Japanese)\n",
      "30000 30% (0m 10s) 1.1852 Ri / Korean ✓\n",
      "35000 35% (0m 12s) 1.9341 Fabbro / Portuguese ✗ (Italian)\n",
      "40000 40% (0m 14s) 0.8140 Cuidightheach / Irish ✓\n",
      "45000 45% (0m 15s) 4.2821 Vainberg / Scottish ✗ (Russian)\n",
      "50000 50% (0m 17s) 1.7392 Hoch / German ✓\n",
      "55000 55% (0m 19s) 3.8408 Jagoda / Japanese ✗ (Polish)\n",
      "60000 60% (0m 21s) 0.0385 Stamatelos / Greek ✓\n",
      "65000 65% (0m 23s) 4.8141 Gall / Irish ✗ (Russian)\n",
      "70000 70% (0m 24s) 2.3295 Brown / Dutch ✗ (Scottish)\n",
      "75000 75% (0m 26s) 1.0044 Hohki / Polish ✗ (Japanese)\n",
      "80000 80% (0m 28s) 1.2199 Chu / Korean ✗ (Vietnamese)\n",
      "85000 85% (0m 30s) 0.0763 Rodrigues / Portuguese ✓\n",
      "90000 90% (0m 32s) 1.3167 Leclerc / French ✓\n",
      "95000 95% (0m 33s) 0.1709 Hadad / Arabic ✓\n",
      "100000 100% (0m 35s) 2.5148 Zambrano / Spanish ✗ (Italian)\n"
     ]
    }
   ],
   "source": [
    "import time\n",
    "import math \n",
    "\n",
    "n_iters = 100000\n",
    "print_every = 5000\n",
    "plot_every = 1000\n",
    "\n",
    "\n",
    "current_loss = 0\n",
    "all_losses = []\n",
    "\n",
    "def timeSince(since):\n",
    "    now = time.time()\n",
    "    s = now-since\n",
    "    m = math.floor(s/60)\n",
    "    s -= m*60\n",
    "    return '%dm %ds' % (m, s)\n",
    "\n",
    "start = time.time()\n",
    "\n",
    "for iter in range(1, n_iters+1):\n",
    "    category, line, category_tensor, line_tensor = randomTrainingExample()\n",
    "    output, loss = train(category_tensor, line_tensor)\n",
    "    current_loss += loss\n",
    "\n",
    "    if iter % print_every == 0:\n",
    "        guess, guess_i = categoryFromOutput(output)\n",
    "        correct = '✓' if guess == category else '✗ (%s)' % category\n",
    "        print('%d %d%% (%s) %.4f %s / %s %s' % (iter, iter / n_iters * 100, timeSince(start), loss, line, guess, correct))\n",
    "\n",
    "    if iter % plot_every == 0:\n",
    "        all_losses.append(current_loss / plot_every)\n",
    "        current_loss = 0"
   ]
  },
  {
   "cell_type": "markdown",
   "metadata": {},
   "source": [
    "## Plotting the results"
   ]
  },
  {
   "cell_type": "code",
   "execution_count": 23,
   "metadata": {},
   "outputs": [
    {
     "data": {
      "text/plain": [
       "[<matplotlib.lines.Line2D at 0x1669c7610>]"
      ]
     },
     "execution_count": 23,
     "metadata": {},
     "output_type": "execute_result"
    },
    {
     "data": {
      "image/png": "[encoded data removed]",
      "text/plain": [
       "<Figure size 640x480 with 1 Axes>"
      ]
     },
     "metadata": {},
     "output_type": "display_data"
    }
   ],
   "source": [
    "import matplotlib.pyplot as plt\n",
    "import matplotlib.ticker as ticker\n",
    "\n",
    "plt.figure()\n",
    "plt.plot(all_losses)"
   ]
  },
  {
   "cell_type": "markdown",
   "metadata": {},
   "source": [
    "# Evaluating the Results"
   ]
  },
  {
   "cell_type": "markdown",
   "metadata": {},
   "source": [
    "### For evaluation, we will plot a confusion matrix."
   ]
  },
  {
   "cell_type": "code",
   "execution_count": 24,
   "metadata": {},
   "outputs": [
    {
     "name": "stderr",
     "output_type": "stream",
     "text": [
      "/var/folders/g6/g9hyk9sx7nsbmqrzpj5z10fc0000gn/T/ipykernel_4747/3585656379.py:33: UserWarning: FixedFormatter should only be used together with FixedLocator\n",
      "  ax.set_xticklabels([''] + all_categories, rotation=90)\n",
      "/var/folders/g6/g9hyk9sx7nsbmqrzpj5z10fc0000gn/T/ipykernel_4747/3585656379.py:34: UserWarning: FixedFormatter should only be used together with FixedLocator\n",
      "  ax.set_yticklabels([''] + all_categories)\n"
     ]
    },
    {
     "data": {
      "image/png": "[encoded data removed]",
      "text/plain": [
       "<Figure size 640x480 with 2 Axes>"
      ]
     },
     "metadata": {},
     "output_type": "display_data"
    }
   ],
   "source": [
    "# Keep track of correct guesses in a confusion matrix\n",
    "confusion = torch.zeros(n_categories, n_categories)\n",
    "n_confusion = 10000\n",
    "\n",
    "# Just return an output given a line\n",
    "def evaluate(line_tensor):\n",
    "    hidden = rnn.initHidden()\n",
    "\n",
    "    for i in range(line_tensor.size()[0]):\n",
    "        output, hidden = rnn(line_tensor[i], hidden)\n",
    "\n",
    "    return output\n",
    "\n",
    "# Go through a bunch of examples and record which are correctly guessed\n",
    "for i in range(n_confusion):\n",
    "    category, line, category_tensor, line_tensor = randomTrainingExample()\n",
    "    output = evaluate(line_tensor)\n",
    "    guess, guess_i = categoryFromOutput(output)\n",
    "    category_i = all_categories.index(category)\n",
    "    confusion[category_i][guess_i] += 1\n",
    "\n",
    "# Normalize by dividing every row by its sum\n",
    "for i in range(n_categories):\n",
    "    confusion[i] = confusion[i] / confusion[i].sum()\n",
    "\n",
    "# Set up plot\n",
    "fig = plt.figure()\n",
    "ax = fig.add_subplot(111)\n",
    "cax = ax.matshow(confusion.numpy())\n",
    "fig.colorbar(cax)\n",
    "\n",
    "# Set up axes\n",
    "ax.set_xticklabels([''] + all_categories, rotation=90)\n",
    "ax.set_yticklabels([''] + all_categories)\n",
    "\n",
    "# Force label at every tick\n",
    "ax.xaxis.set_major_locator(ticker.MultipleLocator(1))\n",
    "ax.yaxis.set_major_locator(ticker.MultipleLocator(1))\n",
    "\n",
    "# sphinx_gallery_thumbnail_number = 2\n",
    "plt.show()"
   ]
  },
  {
   "cell_type": "markdown",
   "metadata": {},
   "source": [
    "### The brighter the color, the more correctly it has predicted."
   ]
  },
  {
   "cell_type": "markdown",
   "metadata": {},
   "source": [
    "### This was a very basic introduction to RNN using PyTorch."
   ]
  }
 ],
 "metadata": {
  "kernelspec": {
   "display_name": "Python 3.10.10 ('machinelearning': venv)",
   "language": "python",
   "name": "python3"
  },
  "language_info": {
   "codemirror_mode": {
    "name": "ipython",
    "version": 3
   },
   "file_extension": ".py",
   "mimetype": "text/x-python",
   "name": "python",
   "nbconvert_exporter": "python",
   "pygments_lexer": "ipython3",
   "version": "3.10.10"
  },
  "orig_nbformat": 4,
  "vscode": {
   "interpreter": {
    "hash": "b4eda43d827550c3308abc6e861da692ff597f78b0110e44545853c0cd5f9496"
   }
  }
 },
 "nbformat": 4,
 "nbformat_minor": 2
}
