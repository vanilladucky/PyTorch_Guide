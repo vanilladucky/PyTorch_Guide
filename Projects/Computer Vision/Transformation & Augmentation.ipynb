{
 "cells": [
  {
   "cell_type": "markdown",
   "metadata": {},
   "source": [
    "<p style=\"text-align: center; font-size:50px;\">Transformation & Augmentation of Images for Computer Vision Tasks</p>"
   ]
  },
  {
   "cell_type": "markdown",
   "metadata": {},
   "source": [
    "#### In this notebook, I will be talking about transformation and augmentation of images, the importance of it for Computer Vision tasks, how to implement them and the performance of it. \n",
    "#### So let's dive in!"
   ]
  },
  {
   "cell_type": "markdown",
   "metadata": {},
   "source": [
    "<p style=\"text-align: center; font-size:30px;\">What is Transformation & Augmentations?</p>"
   ]
  },
  {
   "cell_type": "markdown",
   "metadata": {},
   "source": [
    "#### So what are they?\n",
    "#### Basically, we are distorting, altering, adding noise, tilting, rotating images. \n",
    "#### You might ask **why** we wish to do so. \n",
    "#### As we all know, Deep Learning requires a ton of data, even more than traditional machine learning. \n",
    "#### When it comes to Computer Vision tasks, the more the data, the more robust our model can be. \n",
    "#### With more images, our model can learn more from them.\n",
    "#### However, people who have dipped into the world of Deep Learning are aware that obtaining these data is the hardest part and even obtaining a sufficient number of them can be near impossible. "
   ]
  },
  {
   "cell_type": "markdown",
   "metadata": {},
   "source": [
    "#### This is where these image transformation and augmentations come into play. \n",
    "#### With these techniques, even with a small amount of images, we can alter them so that the model recognises them as new data. \n",
    "#### With altered images, the model can obtain new information and patterns from them and learn more from them. \n",
    "#### Therefore, transformations and augmentations provide humans the power to artificially create a greater number of data, without actually collecting the data by themselves. "
   ]
  },
  {
   "cell_type": "markdown",
   "metadata": {},
   "source": [
    "<p style=\"text-align: center; font-size:30px;\">Type of Transformation & Augmentation</p>"
   ]
  },
  {
   "cell_type": "markdown",
   "metadata": {},
   "source": [
    "#### Now that we know what they are and the importance, you might be wondering what these techniques actually look like. \n",
    "#### There are a handful of these techniques out there but allow me to show you some of them.\n",
    "#### To list them down, there are simple transformations such as resizing, gray scaling, normalizing, random rotation and so on. \n",
    "#### There are more advanced transformations such as Gaussian Noise, Random Erasing and so much more. \n",
    "#### Just listing them down won't drive the point home, so allow me to demonstrate some of these techniques on images. \n",
    "#### For this notebook, I will be employing the famous CIFAR_10 dataset. "
   ]
  },
  {
   "cell_type": "markdown",
   "metadata": {},
   "source": [
    "#### Let's look at a random image from this dataset first.\n",
    "#### But first, let's download the CIFAR_10 dataset and build some basic functions."
   ]
  },
  {
   "cell_type": "code",
   "execution_count": 24,
   "metadata": {},
   "outputs": [],
   "source": [
    "# Importing necessary libraries\n",
    "\n",
    "import warnings\n",
    "warnings.filterwarnings(\"ignore\")\n",
    "\n",
    "import numpy as np \n",
    "import pandas as pd \n",
    "import torch\n",
    "import torchvision\n",
    "from torchvision import transforms as tt\n",
    "from torch import nn\n",
    "import matplotlib.pyplot as plt\n",
    "from PIL import Image\n",
    "from torch.utils.data import Dataset as Dataset\n",
    "from torch.utils.data import DataLoader\n",
    "from sklearn.utils import shuffle\n",
    "from tqdm import tqdm\n",
    "import os\n",
    "from dotenv import load_dotenv\n",
    "\n",
    "height, width = 32, 32\n",
    "batch_size = 128\n",
    "LR = 0.01"
   ]
  },
  {
   "cell_type": "code",
   "execution_count": 2,
   "metadata": {},
   "outputs": [
    {
     "name": "stdout",
     "output_type": "stream",
     "text": [
      "Files already downloaded and verified\n",
      "Files already downloaded and verified\n"
     ]
    }
   ],
   "source": [
    "transform = tt.Compose(\n",
    "    [tt.ToTensor()])\n",
    "\n",
    "trainset = torchvision.datasets.CIFAR10(root='../data', train=True,\n",
    "                                        download=True, transform=transform)\n",
    "trainloader = torch.utils.data.DataLoader(trainset, batch_size=batch_size,\n",
    "                                          shuffle=True, num_workers=2)\n",
    "\n",
    "testset = torchvision.datasets.CIFAR10(root='../data', train=False,\n",
    "                                       download=True, transform=transform)\n",
    "testloader = torch.utils.data.DataLoader(testset, batch_size=batch_size,\n",
    "                                         shuffle=False, num_workers=2)\n",
    "\n",
    "classes = ('plane', 'car', 'bird', 'cat',\n",
    "           'deer', 'dog', 'frog', 'horse', 'ship', 'truck')"
   ]
  },
  {
   "cell_type": "code",
   "execution_count": 3,
   "metadata": {},
   "outputs": [
    {
     "name": "stdout",
     "output_type": "stream",
     "text": [
      "Image shape: torch.Size([128, 3, 32, 32]) -> [batch_size, color_channels, height, width]\n",
      "Label shape: torch.Size([128]) -> [batch_size]\n"
     ]
    }
   ],
   "source": [
    "images, labels = next(iter(trainloader))\n",
    "\n",
    "print(f\"Image shape: {images.shape} -> [batch_size, color_channels, height, width]\")\n",
    "print(f\"Label shape: {labels.shape} -> [batch_size]\")"
   ]
  },
  {
   "cell_type": "markdown",
   "metadata": {},
   "source": [
    "#### Everything is working as intended."
   ]
  },
  {
   "cell_type": "code",
   "execution_count": 4,
   "metadata": {},
   "outputs": [
    {
     "data": {
      "image/png": "[encoded data removed]",
      "text/plain": [
       "<Figure size 640x480 with 1 Axes>"
      ]
     },
     "metadata": {},
     "output_type": "display_data"
    },
    {
     "name": "stdout",
     "output_type": "stream",
     "text": [
      "bird \n"
     ]
    }
   ],
   "source": [
    "def imshow(img):\n",
    "    npimg = img.numpy()\n",
    "    plt.imshow(np.transpose(npimg, (1, 2, 0)))\n",
    "    plt.show()\n",
    "\n",
    "imshow(torchvision.utils.make_grid(images[:1]))\n",
    "print(' '.join(f'{classes[labels[j]]:5s}' for j in range(1)))"
   ]
  },
  {
   "cell_type": "markdown",
   "metadata": {},
   "source": [
    "#### So the pixels are 32x32 so it's a very blur picture compared to the modern image standard. \n",
    "#### However the whole point is just to show you the various transformations. \n",
    "#### Allow me to demonstrate."
   ]
  },
  {
   "cell_type": "markdown",
   "metadata": {},
   "source": [
    "## Normalizing"
   ]
  },
  {
   "cell_type": "code",
   "execution_count": 5,
   "metadata": {},
   "outputs": [
    {
     "name": "stderr",
     "output_type": "stream",
     "text": [
      "Clipping input data to the valid range for imshow with RGB data ([0..1] for floats or [0..255] for integers).\n"
     ]
    },
    {
     "data": {
      "image/png": "[encoded data removed]",
      "text/plain": [
       "<Figure size 640x480 with 1 Axes>"
      ]
     },
     "metadata": {},
     "output_type": "display_data"
    },
    {
     "name": "stdout",
     "output_type": "stream",
     "text": [
      "bird \n"
     ]
    }
   ],
   "source": [
    "imshow(torchvision.utils.make_grid(tt.Normalize((0.5, 0.5, 0.5), (0.5, 0.5, 0.5))(images[:1])))\n",
    "print(' '.join(f'{classes[labels[j]]:5s}' for j in range(1)))"
   ]
  },
  {
   "cell_type": "markdown",
   "metadata": {},
   "source": [
    "#### This [normalization](https://pytorch.org/vision/main/generated/torchvision.transforms.Normalize.html) takes in input of 3 mean values and 3 standard deviation values. This transformation will then normalize the 3 channels based on these 3 pairs of values. "
   ]
  },
  {
   "cell_type": "markdown",
   "metadata": {},
   "source": [
    "## Random Rotation"
   ]
  },
  {
   "cell_type": "code",
   "execution_count": 6,
   "metadata": {},
   "outputs": [
    {
     "data": {
      "image/png": "[encoded data removed]",
      "text/plain": [
       "<Figure size 640x480 with 1 Axes>"
      ]
     },
     "metadata": {},
     "output_type": "display_data"
    },
    {
     "name": "stdout",
     "output_type": "stream",
     "text": [
      "bird \n"
     ]
    }
   ],
   "source": [
    "imshow(torchvision.utils.make_grid(tt.RandomRotation(degrees=(0,360))(images[:1])))\n",
    "print(' '.join(f'{classes[labels[j]]:5s}' for j in range(1)))"
   ]
  },
  {
   "cell_type": "markdown",
   "metadata": {},
   "source": [
    "#### As the name suggests, this transformation will apply a rotation based on the *degrees* parameter. \n",
    "#### This parameter can take in a specific angle of rotation or a range of value (min,max) from which to choose the degree of rotation. "
   ]
  },
  {
   "cell_type": "markdown",
   "metadata": {},
   "source": [
    "## Random Crop"
   ]
  },
  {
   "cell_type": "code",
   "execution_count": 7,
   "metadata": {},
   "outputs": [
    {
     "data": {
      "image/png": "[encoded data removed]",
      "text/plain": [
       "<Figure size 640x480 with 1 Axes>"
      ]
     },
     "metadata": {},
     "output_type": "display_data"
    },
    {
     "name": "stdout",
     "output_type": "stream",
     "text": [
      "bird \n"
     ]
    }
   ],
   "source": [
    "imshow(torchvision.utils.make_grid(tt.RandomCrop(size=20)(images[:1])))\n",
    "print(' '.join(f'{classes[labels[j]]:5s}' for j in range(1)))"
   ]
  },
  {
   "cell_type": "markdown",
   "metadata": {},
   "source": [
    "#### This is also pretty intuitive. \n",
    "#### Random Cropping will crop the image into the desired size, which in this case I have specified it to be 20x20 image. \n",
    "#### This is highly useful for images where majority of the pixels are taken up by useless background noise. "
   ]
  },
  {
   "cell_type": "markdown",
   "metadata": {},
   "source": [
    "## Gaussian Blur"
   ]
  },
  {
   "cell_type": "code",
   "execution_count": 8,
   "metadata": {},
   "outputs": [
    {
     "data": {
      "image/png": "[encoded data removed]",
      "text/plain": [
       "<Figure size 640x480 with 1 Axes>"
      ]
     },
     "metadata": {},
     "output_type": "display_data"
    },
    {
     "name": "stdout",
     "output_type": "stream",
     "text": [
      "bird \n"
     ]
    }
   ],
   "source": [
    "imshow(torchvision.utils.make_grid(tt.GaussianBlur(kernel_size=31)(images[:1])))\n",
    "print(' '.join(f'{classes[labels[j]]:5s}' for j in range(1)))"
   ]
  },
  {
   "cell_type": "markdown",
   "metadata": {},
   "source": [
    "#### This method transforms the image using a Gaussian Kernel.\n",
    "#### Mathematically, we are just applying the Gaussian function to calculate the transformation to apply for each pixel. \n",
    "#### Visually, we will obtain a less clear, blur image. \n",
    "#### This is extremely helpful for the image to generalize instead of overfit and can even obtain new patterns. "
   ]
  },
  {
   "cell_type": "markdown",
   "metadata": {},
   "source": [
    "## Gaussian Noise"
   ]
  },
  {
   "cell_type": "code",
   "execution_count": 9,
   "metadata": {},
   "outputs": [
    {
     "data": {
      "image/png": "[encoded data removed]",
      "text/plain": [
       "<Figure size 640x480 with 1 Axes>"
      ]
     },
     "metadata": {},
     "output_type": "display_data"
    },
    {
     "name": "stdout",
     "output_type": "stream",
     "text": [
      "bird \n"
     ]
    }
   ],
   "source": [
    "def add_noise(inputs,noise_factor=0.3):\n",
    "     noisy = inputs+torch.randn_like(inputs) * noise_factor\n",
    "     noisy = torch.clip(noisy,0.,1.)\n",
    "     return noisy\n",
    "\n",
    "imshow(torchvision.utils.make_grid(add_noise(images[:1])))\n",
    "print(' '.join(f'{classes[labels[j]]:5s}' for j in range(1)))"
   ]
  },
  {
   "cell_type": "markdown",
   "metadata": {},
   "source": [
    "#### Now this is one of the more advanced techniques. \n",
    "#### This is a technique where add some noise into the image sampled from a normal distribution, Gaussian distribution.\n",
    "#### After injecting these random noise, we will clip the values into the range of 0 and 1. \n",
    "#### The noise_factor is the magnitude of how noisy we want the image to be. \n",
    "#### Adding these noises into the images will defintely help the model to generalize better but with too much noise, it will fail to pick out the necessary patterns and learn from the images. "
   ]
  },
  {
   "cell_type": "markdown",
   "metadata": {},
   "source": [
    "## Random Erasing"
   ]
  },
  {
   "cell_type": "code",
   "execution_count": 10,
   "metadata": {},
   "outputs": [
    {
     "data": {
      "image/png": "[encoded data removed]",
      "text/plain": [
       "<Figure size 640x480 with 1 Axes>"
      ]
     },
     "metadata": {},
     "output_type": "display_data"
    },
    {
     "name": "stdout",
     "output_type": "stream",
     "text": [
      "bird \n"
     ]
    }
   ],
   "source": [
    "imshow(torchvision.utils.make_grid(tt.RandomErasing()(images[:1])))\n",
    "print(' '.join(f'{classes[labels[j]]:5s}' for j in range(1)))"
   ]
  },
  {
   "cell_type": "markdown",
   "metadata": {},
   "source": [
    "#### As you can see, there is a random erased block right in the middle. \n",
    "#### This transformation will remove certain portion of the image based on a certain probability. "
   ]
  },
  {
   "cell_type": "markdown",
   "metadata": {},
   "source": [
    "#### As we can see, there are a ton of various techniques out there to transform our images. \n",
    "#### Now allow me to show you how we can utilize these techniques to obtain more images for our training set. "
   ]
  },
  {
   "cell_type": "markdown",
   "metadata": {},
   "source": [
    "<p style=\"text-align: center; font-size:30px;\">Obtaining more data through Transformation and Augmentation</p>"
   ]
  },
  {
   "cell_type": "code",
   "execution_count": 11,
   "metadata": {},
   "outputs": [],
   "source": [
    "load_dotenv()\n",
    "path_to_image = os.getenv('CIFAR_10_PATH_FILE')\n",
    "\n",
    "def unpickle(file):\n",
    "    import pickle\n",
    "    with open(file, 'rb') as fo:\n",
    "        dict = pickle.load(fo, encoding='latin1')\n",
    "    return dict\n",
    "\n",
    "batch_1 = unpickle(path_to_image + 'data_batch_1')\n",
    "batch_1_data = batch_1['data']\n",
    "batch_1_labels = batch_1['labels']\n",
    "\n",
    "batch_2 = unpickle(path_to_image + 'data_batch_2')\n",
    "batch_2_data = batch_2['data']\n",
    "batch_2_labels = batch_2['labels']\n",
    "\n",
    "batch_3 = unpickle(path_to_image + 'data_batch_3')\n",
    "batch_3_data = batch_3['data']\n",
    "batch_3_labels = batch_3['labels']\n",
    "\n",
    "batch_4 = unpickle(path_to_image + 'data_batch_4')\n",
    "batch_4_data = batch_4['data']\n",
    "batch_4_labels = batch_4['labels']\n",
    "\n",
    "batch_5 = unpickle(path_to_image + 'data_batch_5')\n",
    "batch_5_data = batch_5['data']\n",
    "batch_5_labels = batch_5['labels']\n",
    "\n",
    "test_set = unpickle(path_to_image + 'test_batch')\n",
    "\n",
    "all_batch = np.concatenate((batch_1_data, batch_2_data, batch_3_data, batch_4_data, batch_5_data))\n",
    "all_labels = np.concatenate((batch_1_labels, batch_2_labels, batch_3_labels, batch_4_labels, batch_5_labels))\n",
    "\n",
    "data = {'data': all_batch, 'labels': all_labels}"
   ]
  },
  {
   "cell_type": "code",
   "execution_count": 12,
   "metadata": {},
   "outputs": [
    {
     "data": {
      "text/plain": [
       "(50000, 3072)"
      ]
     },
     "execution_count": 12,
     "metadata": {},
     "output_type": "execute_result"
    }
   ],
   "source": [
    "data['data'].shape"
   ]
  },
  {
   "cell_type": "markdown",
   "metadata": {},
   "source": [
    "#### So currently we have 50,000 images. \n",
    "#### Let's apply some transformation to these and obtain more image data. "
   ]
  },
  {
   "cell_type": "code",
   "execution_count": 13,
   "metadata": {},
   "outputs": [
    {
     "data": {
      "text/plain": [
       "Text(0.5, 1.0, '2')"
      ]
     },
     "execution_count": 13,
     "metadata": {},
     "output_type": "execute_result"
    },
    {
     "data": {
      "image/png": "[encoded data removed]",
      "text/plain": [
       "<Figure size 640x480 with 1 Axes>"
      ]
     },
     "metadata": {},
     "output_type": "display_data"
    }
   ],
   "source": [
    "label_name = batch_1['labels']\n",
    "\n",
    "image = batch_1['data'][0]\n",
    "\n",
    "label = batch_1['labels'][0]\n",
    "\n",
    "image = image.reshape(3,32,32)\n",
    "image = tt.GaussianBlur(kernel_size=31)(torch.from_numpy(image))\n",
    "image = image.numpy()\n",
    "\n",
    "image = image.transpose(1,2,0)\n",
    "\n",
    "plt.imshow(image)\n",
    "plt.title(label_name[label])"
   ]
  },
  {
   "cell_type": "markdown",
   "metadata": {},
   "source": [
    "#### As you can see, we can perform these transformation to images and add on to them our existing data. \n",
    "#### I will be performing random flipping and random flipping to obtain more different images to train on."
   ]
  },
  {
   "cell_type": "code",
   "execution_count": 15,
   "metadata": {},
   "outputs": [
    {
     "name": "stderr",
     "output_type": "stream",
     "text": [
      "100%|██████████| 50000/50000 [57:19<00:00, 14.54it/s]   "
     ]
    },
    {
     "name": "stdout",
     "output_type": "stream",
     "text": [
      "Now we have 87572 number of images\n"
     ]
    },
    {
     "name": "stderr",
     "output_type": "stream",
     "text": [
      "\n"
     ]
    }
   ],
   "source": [
    "for i in tqdm(range(50000)):\n",
    "    image = data['data'][i]\n",
    "    label = data['labels'][i]\n",
    "\n",
    "    # Each has a default values of p = 0.5\n",
    "    image_transformed = tt.RandomErasing()(tt.RandomHorizontalFlip()(torch.from_numpy(image.reshape(3,32,32)))).numpy().reshape(3072,)\n",
    "    # Checking whether image has been transformed; if not, we will not add the image to the data\n",
    "    if np.array_equal(image_transformed, image) == True:\n",
    "        continue\n",
    "\n",
    "    data['data'] = np.append(data['data'], [image_transformed], axis = 0)\n",
    "    data['labels'] = np.append(data['labels'], [label], axis = 0)\n",
    "\n",
    "print(f\"Now we have {data['data'].shape[0]} number of images\")"
   ]
  },
  {
   "cell_type": "markdown",
   "metadata": {},
   "source": [
    "#### Now as we can see, we have 37,572 more images, thanks to the transformations. \n",
    "#### This is mathematically sound as the probabilities of transformations were 50% each, thus the probability of transforming a single random image was 0.5 + 0.5*0.5 = 0.75. \n",
    "#### 75% of 50,000 is indeed 37,500. \n",
    "#### With some simple transformations, we were able to obtain 75% more data. \n",
    "#### For the cherry on top, let us conclude by training a simple data on this transformed images. "
   ]
  },
  {
   "cell_type": "markdown",
   "metadata": {},
   "source": [
    "<p style=\"text-align: center; font-size:30px;\">Training</p>"
   ]
  },
  {
   "cell_type": "markdown",
   "metadata": {},
   "source": [
    "#### Let's prepare the data so that we can feed them into our model."
   ]
  },
  {
   "cell_type": "code",
   "execution_count": 21,
   "metadata": {},
   "outputs": [
    {
     "name": "stdout",
     "output_type": "stream",
     "text": [
      "We have 87572 training datapoints and 10000 testing datapoints\n",
      "\n",
      "Image shape: torch.Size([128, 3, 32, 32]) -> [batch_size, color_channels, height, width]\n",
      "Label shape: torch.Size([128]) -> [batch_size]\n"
     ]
    }
   ],
   "source": [
    "simple_transform = tt.Compose([\n",
    "    tt.ToPILImage(),\n",
    "    tt.Resize((height, width)),\n",
    "    tt.ToTensor()\n",
    "])\n",
    "\n",
    "# Creating custom dataset\n",
    "\n",
    "class CIFAR10(Dataset):\n",
    "    def __init__(self, data_dict, transform):\n",
    "        self.data_dict = data_dict\n",
    "        self.transform = transform\n",
    "        \n",
    "        labels = self.data_dict['labels']\n",
    "        \n",
    "    def __len__(self):\n",
    "        return len(self.data_dict['labels'])\n",
    "    \n",
    "    def __getitem__(self, idx):\n",
    "        \n",
    "        img = self.data_dict['data'][idx]\n",
    "        label = self.data_dict['labels'][idx]\n",
    "\n",
    "        img = torch.tensor(img.reshape(3,height,width), dtype=torch.float)\n",
    "\n",
    "        if not isinstance(label,np.int64):\n",
    "            label = torch.tensor(label, dtype=torch.float)\n",
    "            \n",
    "        return self.transform(img), label\n",
    "\n",
    "train_dataloader = CIFAR10(data, transform = simple_transform)\n",
    "test_dataloader = CIFAR10(test_set, transform = simple_transform)\n",
    "\n",
    "print(f\"We have {len(train_dataloader)} training datapoints and {len(test_dataloader)} testing datapoints\\n\")\n",
    "\n",
    "BATCH_SIZE = 128\n",
    "\n",
    "# Creating custom dataloaders\n",
    "\n",
    "train_dataloader_custom = DataLoader(dataset=train_dataloader, \n",
    "                                     batch_size=BATCH_SIZE, \n",
    "                                     # num_workers=2,\n",
    "                                     shuffle=True) \n",
    "\n",
    "test_dataloader_custom = DataLoader(dataset=test_dataloader, \n",
    "                                    batch_size=BATCH_SIZE, \n",
    "                                    # num_workers=2, \n",
    "                                    shuffle=False) \n",
    "\n",
    "# Checking if everything works properly\n",
    "\n",
    "image, label = next(iter(train_dataloader_custom))\n",
    "\n",
    "print(f\"Image shape: {image.shape} -> [batch_size, color_channels, height, width]\")\n",
    "print(f\"Label shape: {label.shape} -> [batch_size]\")"
   ]
  },
  {
   "cell_type": "markdown",
   "metadata": {},
   "source": [
    "#### Let's build up a simple CNN model."
   ]
  },
  {
   "cell_type": "code",
   "execution_count": 26,
   "metadata": {},
   "outputs": [
    {
     "data": {
      "text/plain": [
       "Basic_CNN(\n",
       "  (conv_1): Sequential(\n",
       "    (0): Conv2d(3, 32, kernel_size=(3, 3), stride=(1, 1), padding=(1, 1))\n",
       "    (1): ReLU()\n",
       "    (2): Conv2d(32, 32, kernel_size=(3, 3), stride=(1, 1), padding=(1, 1))\n",
       "    (3): ReLU()\n",
       "    (4): MaxPool2d(kernel_size=2, stride=2, padding=0, dilation=1, ceil_mode=False)\n",
       "  )\n",
       "  (conv_2): Sequential(\n",
       "    (0): Conv2d(32, 32, kernel_size=(3, 3), stride=(1, 1), padding=(1, 1))\n",
       "    (1): ReLU()\n",
       "    (2): Conv2d(32, 32, kernel_size=(3, 3), stride=(1, 1), padding=(1, 1))\n",
       "    (3): ReLU()\n",
       "    (4): MaxPool2d(kernel_size=2, stride=2, padding=0, dilation=1, ceil_mode=False)\n",
       "  )\n",
       "  (classifier): Sequential(\n",
       "    (0): Flatten(start_dim=1, end_dim=-1)\n",
       "    (1): Linear(in_features=2048, out_features=10, bias=True)\n",
       "  )\n",
       ")"
      ]
     },
     "execution_count": 26,
     "metadata": {},
     "output_type": "execute_result"
    }
   ],
   "source": [
    "device = torch.device('mps')\n",
    "\n",
    "class Basic_CNN(nn.Module):\n",
    "    def __init__(self, input_shape, hidden_shape, output_shape):\n",
    "        super().__init__()\n",
    "        self.conv_1 = nn.Sequential(\n",
    "            nn.Conv2d(input_shape, hidden_shape, 3, 1, 1), # hidden * 32 * 32\n",
    "            nn.ReLU(),\n",
    "            nn.Conv2d(hidden_shape, hidden_shape, 3, 1, 1), # hidden * 32 * 32\n",
    "            nn.ReLU(),\n",
    "            nn.MaxPool2d(kernel_size=2, # hidden * 16 * 16 \n",
    "                         stride=2)\n",
    "        )\n",
    "        \n",
    "        self.conv_2 = nn.Sequential(\n",
    "            nn.Conv2d(hidden_shape, hidden_shape, 3, 1, 1), # hidden * 16 * 16 \n",
    "            nn.ReLU(),\n",
    "            nn.Conv2d(hidden_shape, hidden_shape, 3, 1, 1), # hidden * 16 * 16 \n",
    "            nn.ReLU(),\n",
    "            nn.MaxPool2d(kernel_size=2, # hidden * 8 * 8 \n",
    "                         stride=2)\n",
    "        )\n",
    "        \n",
    "        self.classifier = nn.Sequential(\n",
    "            nn.Flatten(),\n",
    "            nn.Linear(hidden_shape * 8 * 8, output_shape)\n",
    "        )\n",
    "        \n",
    "    def forward(self, x):\n",
    "        return self.classifier(self.conv_2(self.conv_1(x)))\n",
    "    \n",
    "torch.manual_seed(42)\n",
    "basic_model = Basic_CNN(3,32,10)\n",
    "basic_model.to(device)"
   ]
  },
  {
   "cell_type": "markdown",
   "metadata": {},
   "source": [
    "#### Let's define our optimizers and loss function and initiate the training loop!"
   ]
  },
  {
   "cell_type": "code",
   "execution_count": 27,
   "metadata": {},
   "outputs": [
    {
     "name": "stderr",
     "output_type": "stream",
     "text": [
      "  1%|          | 1/100 [00:10<16:38, 10.08s/it]"
     ]
    },
    {
     "name": "stdout",
     "output_type": "stream",
     "text": [
      "\n",
      "Epoch: 0 | Train loss: 2.30201 | Test loss: 2.29999 | Test Accuracy: 10.17%\n",
      "\n"
     ]
    },
    {
     "name": "stderr",
     "output_type": "stream",
     "text": [
      " 11%|█         | 11/100 [01:47<14:20,  9.67s/it]"
     ]
    },
    {
     "name": "stdout",
     "output_type": "stream",
     "text": [
      "\n",
      "Epoch: 10 | Train loss: 1.47497 | Test loss: 1.43796 | Test Accuracy: 46.31%\n",
      "\n"
     ]
    },
    {
     "name": "stderr",
     "output_type": "stream",
     "text": [
      " 21%|██        | 21/100 [03:24<12:39,  9.61s/it]"
     ]
    },
    {
     "name": "stdout",
     "output_type": "stream",
     "text": [
      "\n",
      "Epoch: 20 | Train loss: 1.07189 | Test loss: 1.05952 | Test Accuracy: 62.16%\n",
      "\n"
     ]
    },
    {
     "name": "stderr",
     "output_type": "stream",
     "text": [
      " 31%|███       | 31/100 [05:00<11:02,  9.61s/it]"
     ]
    },
    {
     "name": "stdout",
     "output_type": "stream",
     "text": [
      "\n",
      "Epoch: 30 | Train loss: 0.88472 | Test loss: 1.04442 | Test Accuracy: 63.84%\n",
      "\n"
     ]
    },
    {
     "name": "stderr",
     "output_type": "stream",
     "text": [
      " 41%|████      | 41/100 [06:36<09:28,  9.64s/it]"
     ]
    },
    {
     "name": "stdout",
     "output_type": "stream",
     "text": [
      "\n",
      "Epoch: 40 | Train loss: 0.77628 | Test loss: 1.04819 | Test Accuracy: 64.50%\n",
      "\n"
     ]
    },
    {
     "name": "stderr",
     "output_type": "stream",
     "text": [
      " 51%|█████     | 51/100 [08:17<08:21, 10.23s/it]"
     ]
    },
    {
     "name": "stdout",
     "output_type": "stream",
     "text": [
      "\n",
      "Epoch: 50 | Train loss: 0.69982 | Test loss: 0.94892 | Test Accuracy: 67.38%\n",
      "\n"
     ]
    },
    {
     "name": "stderr",
     "output_type": "stream",
     "text": [
      " 61%|██████    | 61/100 [09:59<06:37, 10.19s/it]"
     ]
    },
    {
     "name": "stdout",
     "output_type": "stream",
     "text": [
      "\n",
      "Epoch: 60 | Train loss: 0.64739 | Test loss: 0.96841 | Test Accuracy: 67.66%\n",
      "\n"
     ]
    },
    {
     "name": "stderr",
     "output_type": "stream",
     "text": [
      " 71%|███████   | 71/100 [11:41<04:59, 10.33s/it]"
     ]
    },
    {
     "name": "stdout",
     "output_type": "stream",
     "text": [
      "\n",
      "Epoch: 70 | Train loss: 0.60129 | Test loss: 0.82259 | Test Accuracy: 72.43%\n",
      "\n"
     ]
    },
    {
     "name": "stderr",
     "output_type": "stream",
     "text": [
      " 81%|████████  | 81/100 [13:28<03:24, 10.77s/it]"
     ]
    },
    {
     "name": "stdout",
     "output_type": "stream",
     "text": [
      "\n",
      "Epoch: 80 | Train loss: 0.56456 | Test loss: 0.81869 | Test Accuracy: 72.68%\n",
      "\n"
     ]
    },
    {
     "name": "stderr",
     "output_type": "stream",
     "text": [
      " 91%|█████████ | 91/100 [15:16<01:37, 10.84s/it]"
     ]
    },
    {
     "name": "stdout",
     "output_type": "stream",
     "text": [
      "\n",
      "Epoch: 90 | Train loss: 0.53019 | Test loss: 0.91744 | Test Accuracy: 70.98%\n",
      "\n"
     ]
    },
    {
     "name": "stderr",
     "output_type": "stream",
     "text": [
      "100%|██████████| 100/100 [16:55<00:00, 10.16s/it]\n"
     ]
    }
   ],
   "source": [
    "lf = nn.CrossEntropyLoss() # Adding the sigmoid function as well\n",
    "optimizer = torch.optim.SGD(params = basic_model.parameters(), lr = LR)\n",
    "\n",
    "epochs = 100\n",
    "train_loss_arr = []\n",
    "test_loss_arr = []\n",
    "test_accuracy_arr = []\n",
    "\n",
    "for epoch in tqdm(range(epochs)):\n",
    "    train_loss = 0\n",
    "    \n",
    "    for batch, (X,y) in enumerate(train_dataloader_custom):\n",
    "        X = X.to(device)\n",
    "        y = y.to(device)\n",
    "        basic_model.train()\n",
    "                \n",
    "        # Forward\n",
    "        y_pred = basic_model(X)\n",
    "        \n",
    "        # Calculate loss\n",
    "        loss = lf(y_pred,torch.tensor(y, dtype=torch.long))\n",
    "        train_loss += loss\n",
    "        \n",
    "        # Zero grad\n",
    "        optimizer.zero_grad()\n",
    "        \n",
    "        # Loss backward\n",
    "        loss.backward()\n",
    "        \n",
    "        # Optimizer step\n",
    "        optimizer.step()\n",
    "    \n",
    "    train_loss/=len(train_dataloader_custom)\n",
    "    train_loss_arr.append(train_loss.cpu().detach().numpy())\n",
    "    \n",
    "    test_loss, test_acc= 0, 0\n",
    "    basic_model.eval() \n",
    "    with torch.inference_mode():\n",
    "        for batch, (X,y) in enumerate(test_dataloader_custom):\n",
    "\n",
    "            X = X.to(device)\n",
    "            y = y.to(device)\n",
    "            \n",
    "            # Forward\n",
    "            test_pred = basic_model(X)\n",
    "            \n",
    "            # Calculate loss \n",
    "            test_loss += lf(test_pred, torch.tensor(y, dtype=torch.long))\n",
    "\n",
    "            # Calculate test accuracy \n",
    "            test_acc += ((int(torch.sum(torch.argmax(test_pred, dim=1) == y))/BATCH_SIZE)*100)\n",
    "            \n",
    "            \n",
    "        test_loss /= len(test_dataloader_custom)\n",
    "        test_acc /= len(test_dataloader_custom)\n",
    "        test_loss_arr.append(test_loss.cpu().detach().numpy())\n",
    "        test_accuracy_arr.append(test_acc)\n",
    "\n",
    "    if epoch % 10 == 0:\n",
    "        print(f\"\\nEpoch: {epoch} | Train loss: {train_loss:.5f} | Test loss: {test_loss:.5f} | Test Accuracy: {test_acc:.2f}%\\n\")\n"
   ]
  },
  {
   "cell_type": "code",
   "execution_count": 29,
   "metadata": {},
   "outputs": [
    {
     "data": {
      "text/plain": [
       "<matplotlib.legend.Legend at 0x2db6a6380>"
      ]
     },
     "execution_count": 29,
     "metadata": {},
     "output_type": "execute_result"
    },
    {
     "data": {
      "image/png": "[encoded data removed]",
      "text/plain": [
       "<Figure size 640x480 with 1 Axes>"
      ]
     },
     "metadata": {},
     "output_type": "display_data"
    }
   ],
   "source": [
    "plt.plot([i for i in range(epochs)], train_loss_arr, label='train loss')\n",
    "plt.plot([i for i in range(epochs)], test_loss_arr, label='test loss')\n",
    "plt.title('Loss Plot')\n",
    "plt.xlabel('Epochs')\n",
    "plt.ylabel('Loss')\n",
    "plt.legend()"
   ]
  },
  {
   "cell_type": "markdown",
   "metadata": {},
   "source": [
    "#### If you saw my other notebook about the same CIFAR_10 dataset, you would have noticed that we were not able to reach such good accuracy results. \n",
    "#### This could be due to the fact that we trained on more images and that the model learned new patterns and learned to generalize better. \n",
    "#### I believe with a lower learning rate, we would have a less turbulent loss graph and could potentially to the global optimal value."
   ]
  },
  {
   "cell_type": "markdown",
   "metadata": {},
   "source": [
    "<p style=\"text-align: center; font-size:30px;\">Conclusion</p>"
   ]
  },
  {
   "cell_type": "markdown",
   "metadata": {},
   "source": [
    "#### I hope with this notebook, you were able to realize the importance and power of transformation and augmentation of data. \n",
    "#### It not only provides us with more data to feed into our model, but provides our model more power to generalize to the overall data. \n",
    "#### Give this a go and try to utilize other transformation techniques too!"
   ]
  }
 ],
 "metadata": {
  "kernelspec": {
   "display_name": "Python 3.10.10 ('machinelearning': venv)",
   "language": "python",
   "name": "python3"
  },
  "language_info": {
   "codemirror_mode": {
    "name": "ipython",
    "version": 3
   },
   "file_extension": ".py",
   "mimetype": "text/x-python",
   "name": "python",
   "nbconvert_exporter": "python",
   "pygments_lexer": "ipython3",
   "version": "3.10.10"
  },
  "orig_nbformat": 4,
  "vscode": {
   "interpreter": {
    "hash": "b4eda43d827550c3308abc6e861da692ff597f78b0110e44545853c0cd5f9496"
   }
  }
 },
 "nbformat": 4,
 "nbformat_minor": 2
}
