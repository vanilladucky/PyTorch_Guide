{
 "cells": [
  {
   "cell_type": "markdown",
   "metadata": {},
   "source": [
    "### This is from a [tutorial]('https://pytorch.org/tutorials/intermediate/char_rnn_classification_tutorial.html) from the PyTorch website."
   ]
  },
  {
   "cell_type": "markdown",
   "metadata": {},
   "source": [
    "### In this notebook, we will be building and training a basic RNN to classify words. \n",
    "### This seems to be a good start for any of you who wish to learn how to implement RNN using PyTorch.\n",
    "### With RNN, the basics is that we will output a prediction and 'hidden state' at each step, feeding its previous hidden state into each next step.\n",
    "### For this task, we'll train on a few thousand surnames from 18 languages of origin, and predict which language a name is from based on the spelling.\n",
    "### We will use some helper code from the tutorial to convert the names from Unicode to ACSII and come up with a dictinoary of lists of names per language."
   ]
  },
  {
   "cell_type": "code",
   "execution_count": 2,
   "metadata": {},
   "outputs": [
    {
     "name": "stdout",
     "output_type": "stream",
     "text": [
      "['/Users/kimhyunbin/Documents/Python/My own project (Python)/PyTorch_Guide/data/names/Czech.txt', '/Users/kimhyunbin/Documents/Python/My own project (Python)/PyTorch_Guide/data/names/German.txt', '/Users/kimhyunbin/Documents/Python/My own project (Python)/PyTorch_Guide/data/names/Arabic.txt', '/Users/kimhyunbin/Documents/Python/My own project (Python)/PyTorch_Guide/data/names/Japanese.txt', '/Users/kimhyunbin/Documents/Python/My own project (Python)/PyTorch_Guide/data/names/Chinese.txt', '/Users/kimhyunbin/Documents/Python/My own project (Python)/PyTorch_Guide/data/names/Vietnamese.txt', '/Users/kimhyunbin/Documents/Python/My own project (Python)/PyTorch_Guide/data/names/Russian.txt', '/Users/kimhyunbin/Documents/Python/My own project (Python)/PyTorch_Guide/data/names/French.txt', '/Users/kimhyunbin/Documents/Python/My own project (Python)/PyTorch_Guide/data/names/Irish.txt', '/Users/kimhyunbin/Documents/Python/My own project (Python)/PyTorch_Guide/data/names/English.txt', '/Users/kimhyunbin/Documents/Python/My own project (Python)/PyTorch_Guide/data/names/Spanish.txt', '/Users/kimhyunbin/Documents/Python/My own project (Python)/PyTorch_Guide/data/names/Greek.txt', '/Users/kimhyunbin/Documents/Python/My own project (Python)/PyTorch_Guide/data/names/Italian.txt', '/Users/kimhyunbin/Documents/Python/My own project (Python)/PyTorch_Guide/data/names/Portuguese.txt', '/Users/kimhyunbin/Documents/Python/My own project (Python)/PyTorch_Guide/data/names/Scottish.txt', '/Users/kimhyunbin/Documents/Python/My own project (Python)/PyTorch_Guide/data/names/Dutch.txt', '/Users/kimhyunbin/Documents/Python/My own project (Python)/PyTorch_Guide/data/names/Korean.txt', '/Users/kimhyunbin/Documents/Python/My own project (Python)/PyTorch_Guide/data/names/Polish.txt']\n",
      "Slusarski\n"
     ]
    }
   ],
   "source": [
    "from __future__ import unicode_literals, print_function, division\n",
    "from io import open\n",
    "import glob\n",
    "import os\n",
    "\n",
    "def findFiles(path): return glob.glob(path)\n",
    "\n",
    "home = '/Users/kimhyunbin/Documents/Python/My own project (Python)/PyTorch_Guide/'\n",
    "\n",
    "print(findFiles(home+'data/names/*.txt'))\n",
    "\n",
    "import unicodedata\n",
    "import string\n",
    "\n",
    "all_letters = string.ascii_letters + \" .,;'\"\n",
    "n_letters = len(all_letters)\n",
    "\n",
    "# Turn a Unicode string to plain ASCII, thanks to https://stackoverflow.com/a/518232/2809427\n",
    "def unicodeToAscii(s):\n",
    "    return ''.join(\n",
    "        c for c in unicodedata.normalize('NFD', s)\n",
    "        if unicodedata.category(c) != 'Mn'\n",
    "        and c in all_letters\n",
    "    )\n",
    "\n",
    "print(unicodeToAscii('Ślusàrski'))\n",
    "\n",
    "# Build the category_lines dictionary, a list of names per language\n",
    "category_lines = {}\n",
    "all_categories = []\n",
    "\n",
    "# Read a file and split into lines\n",
    "def readLines(filename):\n",
    "    lines = open(filename, encoding='utf-8').read().strip().split('\\n')\n",
    "    return [unicodeToAscii(line) for line in lines]\n",
    "\n",
    "for filename in findFiles(home+'data/names/*.txt'):\n",
    "    category = os.path.splitext(os.path.basename(filename))[0]\n",
    "    all_categories.append(category)\n",
    "    lines = readLines(filename)\n",
    "    category_lines[category] = lines\n",
    "\n",
    "n_categories = len(all_categories)"
   ]
  },
  {
   "cell_type": "markdown",
   "metadata": {},
   "source": [
    "### We have *category_lines*, a dictinoary mapping each category (language) to a list of lines (names).\n",
    "### *all_categories* is just a list of languages and *n_categories* is the number of languages we have."
   ]
  },
  {
   "cell_type": "code",
   "execution_count": 3,
   "metadata": {},
   "outputs": [
    {
     "name": "stdout",
     "output_type": "stream",
     "text": [
      "['Abandonato', 'Abatangelo', 'Abatantuono', 'Abate', 'Abategiovanni']\n"
     ]
    }
   ],
   "source": [
    "print(category_lines['Italian'][:5])"
   ]
  },
  {
   "cell_type": "markdown",
   "metadata": {},
   "source": [
    "# Turning names into Tensors"
   ]
  },
  {
   "cell_type": "markdown",
   "metadata": {},
   "source": [
    "### For this task, we would use a one-hot vector of size <1 x n_letters>.\n",
    "### It would be a sparse matrix overall with binary representations of the presence of the respective letters.\n",
    "### The eventual joined representation of a word would be a 2D matrix <line_length x 1 x n_letters>"
   ]
  },
  {
   "cell_type": "code",
   "execution_count": 7,
   "metadata": {},
   "outputs": [
    {
     "name": "stdout",
     "output_type": "stream",
     "text": [
      "tensor([[0., 0., 0., 0., 0., 0., 0., 0., 0., 0., 0., 0., 0., 0., 0., 0., 0., 0.,\n",
      "         0., 0., 0., 0., 0., 0., 0., 0., 0., 0., 0., 0., 0., 0., 0., 0., 0., 1.,\n",
      "         0., 0., 0., 0., 0., 0., 0., 0., 0., 0., 0., 0., 0., 0., 0., 0., 0., 0.,\n",
      "         0., 0., 0.]])\n",
      "torch.Size([5, 1, 57])\n"
     ]
    }
   ],
   "source": [
    "import torch \n",
    "\n",
    "def letterToIndex(letter):\n",
    "    return all_letters.find(letter)\n",
    "\n",
    "def letterToTensor(letter):\n",
    "    tensor = torch.zeros(1, n_letters)\n",
    "    tensor[0][letterToIndex(letter)] = 1\n",
    "    return tensor\n",
    "\n",
    "def lineToTensor(word):\n",
    "    tensor = torch.zeros(len(word), 1, n_letters)\n",
    "    for li, letter in enumerate(word):\n",
    "        tensor[li][0][letterToIndex(letter)] = 1\n",
    "    return tensor\n",
    "\n",
    "print(letterToTensor('J'))\n",
    "\n",
    "print(lineToTensor('Jones').size())"
   ]
  },
  {
   "cell_type": "markdown",
   "metadata": {},
   "source": [
    "### You can understand this as 5 letters in the word 'Jones' and each of the tensor representing individual letters have a single row with 57 columns, each column for every element in the all_letters representation."
   ]
  },
  {
   "cell_type": "markdown",
   "metadata": {},
   "source": [
    "# Creating the Network"
   ]
  },
  {
   "cell_type": "code",
   "execution_count": 11,
   "metadata": {},
   "outputs": [],
   "source": [
    "import torch.nn as nn \n",
    "\n",
    "class RNN(nn.Module):\n",
    "    def __init__(self, input_size, hidden_size, output_size):\n",
    "        super(RNN, self).__init__()\n",
    "\n",
    "        self.hidden_size = hidden_size\n",
    "\n",
    "        self.i2h = nn.Linear(input_size + hidden_size, hidden_size)\n",
    "        self.i2o = nn.Linear(input_size + hidden_size, output_size)\n",
    "        self.softmax = nn.LogSoftmax(dim=1)\n",
    "\n",
    "    def forward(self, input, hidden):\n",
    "        combined = torch.cat((input, hidden),1)\n",
    "        hidden = self.i2h(combined)\n",
    "        output = self.softmax(self.i2o(combined))\n",
    "        return output, hidden\n",
    "\n",
    "    def initHidden(self):\n",
    "        return torch.zeros(1, self.hidden_size)\n",
    "\n",
    "n_hidden = 128\n",
    "rnn = RNN(n_letters, n_hidden, n_categories)"
   ]
  },
  {
   "cell_type": "markdown",
   "metadata": {},
   "source": [
    "### This network will be ran as such.\n",
    "### We will pass an input (the Tensor for the current letter) and a previous hidden state (which is initilized as zeroes first).\n",
    "### We will get back the output (probability of each langugage) and a next hidden state (for the next time step)."
   ]
  },
  {
   "cell_type": "code",
   "execution_count": 16,
   "metadata": {},
   "outputs": [
    {
     "data": {
      "text/plain": [
       "(torch.Size([1, 18]), torch.Size([1, 128]))"
      ]
     },
     "execution_count": 16,
     "metadata": {},
     "output_type": "execute_result"
    }
   ],
   "source": [
    "input = letterToTensor('A')\n",
    "hidden = torch.zeros(1, n_hidden)\n",
    "output, next_hidden = rnn(input, hidden)\n",
    "output.size(), next_hidden.size()"
   ]
  },
  {
   "cell_type": "markdown",
   "metadata": {},
   "source": [
    "### In practice, we would convert the whole letter to Tensors which our model would be able to interpret."
   ]
  },
  {
   "cell_type": "code",
   "execution_count": 17,
   "metadata": {},
   "outputs": [
    {
     "data": {
      "text/plain": [
       "tensor([[-2.9647, -2.8111, -2.7743, -2.9133, -2.8510, -3.0001, -2.8762, -2.7799,\n",
       "         -2.9853, -2.9864, -2.8899, -2.9542, -2.9563, -2.8634, -2.9135, -2.9159,\n",
       "         -2.7841, -2.8538]], grad_fn=<LogSoftmaxBackward0>)"
      ]
     },
     "execution_count": 17,
     "metadata": {},
     "output_type": "execute_result"
    }
   ],
   "source": [
    "input = lineToTensor('Albert')\n",
    "hidden = torch.zeros(1, n_hidden)\n",
    "\n",
    "output, next_hidden = rnn(input[0], hidden)\n",
    "output"
   ]
  },
  {
   "cell_type": "markdown",
   "metadata": {},
   "source": [
    "### The output is a tensor showing the probability for each criteria. \n",
    "### The higher the numerical figure, the more likely it is that the name is from that specific language."
   ]
  },
  {
   "cell_type": "markdown",
   "metadata": {},
   "source": [
    "# Training"
   ]
  },
  {
   "cell_type": "markdown",
   "metadata": {},
   "source": [
    "### Let's create a helper function to be able to interpret the output of the network."
   ]
  },
  {
   "cell_type": "code",
   "execution_count": 18,
   "metadata": {},
   "outputs": [
    {
     "name": "stdout",
     "output_type": "stream",
     "text": [
      "('Arabic', 2)\n"
     ]
    }
   ],
   "source": [
    "def categoryFromOutput(input):\n",
    "    top_n, top_i = output.topk(1)\n",
    "    category_i = top_i[0].item()\n",
    "    return all_categories[category_i], category_i\n",
    "\n",
    "print(categoryFromOutput(output))"
   ]
  },
  {
   "cell_type": "code",
   "execution_count": null,
   "metadata": {},
   "outputs": [],
   "source": []
  }
 ],
 "metadata": {
  "kernelspec": {
   "display_name": "Python 3.10.10 ('machinelearning': venv)",
   "language": "python",
   "name": "python3"
  },
  "language_info": {
   "codemirror_mode": {
    "name": "ipython",
    "version": 3
   },
   "file_extension": ".py",
   "mimetype": "text/x-python",
   "name": "python",
   "nbconvert_exporter": "python",
   "pygments_lexer": "ipython3",
   "version": "3.10.10"
  },
  "orig_nbformat": 4,
  "vscode": {
   "interpreter": {
    "hash": "b4eda43d827550c3308abc6e861da692ff597f78b0110e44545853c0cd5f9496"
   }
  }
 },
 "nbformat": 4,
 "nbformat_minor": 2
}
