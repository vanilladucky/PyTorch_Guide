{
 "cells": [
  {
   "cell_type": "code",
   "execution_count": 1,
   "id": "5e21f7cf",
   "metadata": {
    "_cell_guid": "b1076dfc-b9ad-4769-8c92-a6c4dae69d19",
    "_kg_hide-input": true,
    "_kg_hide-output": true,
    "_uuid": "8f2839f25d086af736a60e9eeb907d3b93b6e0e5",
    "execution": {
     "iopub.execute_input": "2023-05-16T13:50:11.260594Z",
     "iopub.status.busy": "2023-05-16T13:50:11.260125Z",
     "iopub.status.idle": "2023-05-16T13:50:22.100321Z",
     "shell.execute_reply": "2023-05-16T13:50:22.099147Z"
    },
    "papermill": {
     "duration": 10.855535,
     "end_time": "2023-05-16T13:50:22.102957",
     "exception": false,
     "start_time": "2023-05-16T13:50:11.247422",
     "status": "completed"
    },
    "tags": []
   },
   "outputs": [
    {
     "data": {
      "text/plain": [
       "device(type='cuda')"
      ]
     },
     "execution_count": 1,
     "metadata": {},
     "output_type": "execute_result"
    }
   ],
   "source": [
    "import numpy as np\n",
    "import pandas as pd \n",
    "import torch\n",
    "import torchtext\n",
    "from torchtext.data.utils import get_tokenizer\n",
    "from torchtext.vocab import build_vocab_from_iterator\n",
    "from torch.utils.data import Dataset\n",
    "from torch.utils.data import DataLoader\n",
    "from sklearn.model_selection import train_test_split\n",
    "from keras.preprocessing import sequence\n",
    "from keras.preprocessing.text import Tokenizer\n",
    "import torch.nn as nn\n",
    "import torch.nn.functional as F\n",
    "import torchinfo\n",
    "import time\n",
    "import re\n",
    "from torch.nn.utils.rnn import pad_sequence\n",
    "from torch.nn import TransformerEncoder, TransformerEncoderLayer\n",
    "import math \n",
    "import torchinfo\n",
    "from torchinfo import summary\n",
    "from tqdm.notebook import tqdm\n",
    "from transformers import BertTokenizer\n",
    "\n",
    "\n",
    "if torch.cuda.is_available():\n",
    "    device = torch.device(\"cuda\") \n",
    "else:\n",
    "    device = torch.device(\"cpu\")\n",
    "device"
   ]
  },
  {
   "cell_type": "markdown",
   "id": "f7795ec1",
   "metadata": {
    "papermill": {
     "duration": 0.008715,
     "end_time": "2023-05-16T13:50:22.120974",
     "exception": false,
     "start_time": "2023-05-16T13:50:22.112259",
     "status": "completed"
    },
    "tags": []
   },
   "source": [
    "# Introduction"
   ]
  },
  {
   "cell_type": "markdown",
   "id": "c33e021e",
   "metadata": {
    "papermill": {
     "duration": 0.008274,
     "end_time": "2023-05-16T13:50:22.137894",
     "exception": false,
     "start_time": "2023-05-16T13:50:22.129620",
     "status": "completed"
    },
    "tags": []
   },
   "source": [
    "#### In this notebook, I will be performing text classifcation using PyTorch. \n",
    "#### I hope this can be a good start to learn some basic NLP techniques."
   ]
  },
  {
   "cell_type": "markdown",
   "id": "88d5be0d",
   "metadata": {
    "papermill": {
     "duration": 0.008231,
     "end_time": "2023-05-16T13:50:22.154927",
     "exception": false,
     "start_time": "2023-05-16T13:50:22.146696",
     "status": "completed"
    },
    "tags": []
   },
   "source": [
    "# Data"
   ]
  },
  {
   "cell_type": "code",
   "execution_count": 2,
   "id": "1acd6cf6",
   "metadata": {
    "execution": {
     "iopub.execute_input": "2023-05-16T13:50:22.175019Z",
     "iopub.status.busy": "2023-05-16T13:50:22.173519Z",
     "iopub.status.idle": "2023-05-16T13:50:22.264554Z",
     "shell.execute_reply": "2023-05-16T13:50:22.263492Z"
    },
    "papermill": {
     "duration": 0.103557,
     "end_time": "2023-05-16T13:50:22.267295",
     "exception": false,
     "start_time": "2023-05-16T13:50:22.163738",
     "status": "completed"
    },
    "tags": []
   },
   "outputs": [],
   "source": [
    "train = pd.read_csv('/kaggle/input/nlp-getting-started/train.csv')\n",
    "test = pd.read_csv('/kaggle/input/nlp-getting-started/test.csv')\n",
    "sample = pd.read_csv('/kaggle/input/nlp-getting-started/sample_submission.csv')\n",
    "\n",
    "train_df, val_df = train_test_split(train, test_size=0.3, random_state=42)\n",
    "\n",
    "train_df = train_df.drop([\"keyword\", \"location\"], axis=1)\n",
    "val_df = val_df.drop([\"keyword\", \"location\"], axis=1)\n",
    "test_df = test.drop([\"keyword\", \"location\"], axis=1)\n",
    "\n",
    "test_df['target'] = 0 # For the custom dataset later on"
   ]
  },
  {
   "cell_type": "code",
   "execution_count": 3,
   "id": "54f3994a",
   "metadata": {
    "execution": {
     "iopub.execute_input": "2023-05-16T13:50:22.286665Z",
     "iopub.status.busy": "2023-05-16T13:50:22.286331Z",
     "iopub.status.idle": "2023-05-16T13:50:22.303207Z",
     "shell.execute_reply": "2023-05-16T13:50:22.301971Z"
    },
    "papermill": {
     "duration": 0.029549,
     "end_time": "2023-05-16T13:50:22.306033",
     "exception": false,
     "start_time": "2023-05-16T13:50:22.276484",
     "status": "completed"
    },
    "tags": []
   },
   "outputs": [
    {
     "data": {
      "text/html": [
       "<div>\n",
       "<style scoped>\n",
       "    .dataframe tbody tr th:only-of-type {\n",
       "        vertical-align: middle;\n",
       "    }\n",
       "\n",
       "    .dataframe tbody tr th {\n",
       "        vertical-align: top;\n",
       "    }\n",
       "\n",
       "    .dataframe thead th {\n",
       "        text-align: right;\n",
       "    }\n",
       "</style>\n",
       "<table border=\"1\" class=\"dataframe\">\n",
       "  <thead>\n",
       "    <tr style=\"text-align: right;\">\n",
       "      <th></th>\n",
       "      <th>id</th>\n",
       "      <th>text</th>\n",
       "      <th>target</th>\n",
       "    </tr>\n",
       "  </thead>\n",
       "  <tbody>\n",
       "    <tr>\n",
       "      <th>1186</th>\n",
       "      <td>1707</td>\n",
       "      <td>Ashes 2015: AustraliaÛªs collapse at Trent Br...</td>\n",
       "      <td>0</td>\n",
       "    </tr>\n",
       "    <tr>\n",
       "      <th>4071</th>\n",
       "      <td>5789</td>\n",
       "      <td>GREAT MICHIGAN TECHNIQUE CAMP\\nB1G THANKS TO @...</td>\n",
       "      <td>1</td>\n",
       "    </tr>\n",
       "    <tr>\n",
       "      <th>5461</th>\n",
       "      <td>7789</td>\n",
       "      <td>CNN: Tennessee movie theater shooting suspect ...</td>\n",
       "      <td>1</td>\n",
       "    </tr>\n",
       "    <tr>\n",
       "      <th>5787</th>\n",
       "      <td>8257</td>\n",
       "      <td>Still rioting in a couple of hours left until ...</td>\n",
       "      <td>1</td>\n",
       "    </tr>\n",
       "    <tr>\n",
       "      <th>7445</th>\n",
       "      <td>10656</td>\n",
       "      <td>Crack in the path where I wiped out this morni...</td>\n",
       "      <td>0</td>\n",
       "    </tr>\n",
       "    <tr>\n",
       "      <th>...</th>\n",
       "      <td>...</td>\n",
       "      <td>...</td>\n",
       "      <td>...</td>\n",
       "    </tr>\n",
       "    <tr>\n",
       "      <th>5226</th>\n",
       "      <td>7470</td>\n",
       "      <td>@Eganator2000 There aren't many Obliteration s...</td>\n",
       "      <td>0</td>\n",
       "    </tr>\n",
       "    <tr>\n",
       "      <th>5390</th>\n",
       "      <td>7691</td>\n",
       "      <td>just had a panic attack bc I don't have enough...</td>\n",
       "      <td>0</td>\n",
       "    </tr>\n",
       "    <tr>\n",
       "      <th>860</th>\n",
       "      <td>1242</td>\n",
       "      <td>Omron HEM-712C Automatic Blood Pressure Monito...</td>\n",
       "      <td>0</td>\n",
       "    </tr>\n",
       "    <tr>\n",
       "      <th>7603</th>\n",
       "      <td>10862</td>\n",
       "      <td>Officials say a quarantine is in place at an A...</td>\n",
       "      <td>1</td>\n",
       "    </tr>\n",
       "    <tr>\n",
       "      <th>7270</th>\n",
       "      <td>10409</td>\n",
       "      <td>I moved to England five years ago today. What ...</td>\n",
       "      <td>1</td>\n",
       "    </tr>\n",
       "  </tbody>\n",
       "</table>\n",
       "<p>5329 rows × 3 columns</p>\n",
       "</div>"
      ],
      "text/plain": [
       "         id                                               text  target\n",
       "1186   1707  Ashes 2015: AustraliaÛªs collapse at Trent Br...       0\n",
       "4071   5789  GREAT MICHIGAN TECHNIQUE CAMP\\nB1G THANKS TO @...       1\n",
       "5461   7789  CNN: Tennessee movie theater shooting suspect ...       1\n",
       "5787   8257  Still rioting in a couple of hours left until ...       1\n",
       "7445  10656  Crack in the path where I wiped out this morni...       0\n",
       "...     ...                                                ...     ...\n",
       "5226   7470  @Eganator2000 There aren't many Obliteration s...       0\n",
       "5390   7691  just had a panic attack bc I don't have enough...       0\n",
       "860    1242  Omron HEM-712C Automatic Blood Pressure Monito...       0\n",
       "7603  10862  Officials say a quarantine is in place at an A...       1\n",
       "7270  10409  I moved to England five years ago today. What ...       1\n",
       "\n",
       "[5329 rows x 3 columns]"
      ]
     },
     "metadata": {},
     "output_type": "display_data"
    }
   ],
   "source": [
    "display(train_df)"
   ]
  },
  {
   "cell_type": "code",
   "execution_count": 4,
   "id": "74401866",
   "metadata": {
    "execution": {
     "iopub.execute_input": "2023-05-16T13:50:22.325335Z",
     "iopub.status.busy": "2023-05-16T13:50:22.325007Z",
     "iopub.status.idle": "2023-05-16T13:50:22.329367Z",
     "shell.execute_reply": "2023-05-16T13:50:22.328356Z"
    },
    "papermill": {
     "duration": 0.01673,
     "end_time": "2023-05-16T13:50:22.331609",
     "exception": false,
     "start_time": "2023-05-16T13:50:22.314879",
     "status": "completed"
    },
    "tags": []
   },
   "outputs": [],
   "source": [
    "#train_df['text'].apply(len).mean()"
   ]
  },
  {
   "cell_type": "markdown",
   "id": "faadc6b1",
   "metadata": {
    "papermill": {
     "duration": 0.008955,
     "end_time": "2023-05-16T13:50:22.349811",
     "exception": false,
     "start_time": "2023-05-16T13:50:22.340856",
     "status": "completed"
    },
    "tags": []
   },
   "source": [
    "#### The whole point of this exercise is to categorize the type of the text.\n",
    "#### If the text is about a real disaster, it is labelled as 1.\n",
    "#### If not, it is labelled as 0."
   ]
  },
  {
   "cell_type": "code",
   "execution_count": 5,
   "id": "549d9cd8",
   "metadata": {
    "execution": {
     "iopub.execute_input": "2023-05-16T13:50:22.369880Z",
     "iopub.status.busy": "2023-05-16T13:50:22.368926Z",
     "iopub.status.idle": "2023-05-16T13:50:22.376010Z",
     "shell.execute_reply": "2023-05-16T13:50:22.374990Z"
    },
    "papermill": {
     "duration": 0.019638,
     "end_time": "2023-05-16T13:50:22.378260",
     "exception": false,
     "start_time": "2023-05-16T13:50:22.358622",
     "status": "completed"
    },
    "tags": []
   },
   "outputs": [
    {
     "data": {
      "text/plain": [
       "(5329, 3)"
      ]
     },
     "execution_count": 5,
     "metadata": {},
     "output_type": "execute_result"
    }
   ],
   "source": [
    "train_df.shape"
   ]
  },
  {
   "cell_type": "markdown",
   "id": "8ac0df97",
   "metadata": {
    "papermill": {
     "duration": 0.008908,
     "end_time": "2023-05-16T13:50:22.396390",
     "exception": false,
     "start_time": "2023-05-16T13:50:22.387482",
     "status": "completed"
    },
    "tags": []
   },
   "source": [
    "#### We have 5329 total number of training data."
   ]
  },
  {
   "cell_type": "markdown",
   "id": "4be06d3a",
   "metadata": {
    "papermill": {
     "duration": 0.009657,
     "end_time": "2023-05-16T13:50:22.416637",
     "exception": false,
     "start_time": "2023-05-16T13:50:22.406980",
     "status": "completed"
    },
    "tags": []
   },
   "source": [
    "## Custom Dataset"
   ]
  },
  {
   "cell_type": "markdown",
   "id": "989ed495",
   "metadata": {
    "papermill": {
     "duration": 0.008935,
     "end_time": "2023-05-16T13:50:22.434884",
     "exception": false,
     "start_time": "2023-05-16T13:50:22.425949",
     "status": "completed"
    },
    "tags": []
   },
   "source": [
    "#### Let's create a custom dataset."
   ]
  },
  {
   "cell_type": "code",
   "execution_count": 6,
   "id": "7f7cb82f",
   "metadata": {
    "execution": {
     "iopub.execute_input": "2023-05-16T13:50:22.456732Z",
     "iopub.status.busy": "2023-05-16T13:50:22.455765Z",
     "iopub.status.idle": "2023-05-16T13:50:22.463986Z",
     "shell.execute_reply": "2023-05-16T13:50:22.463091Z"
    },
    "papermill": {
     "duration": 0.021668,
     "end_time": "2023-05-16T13:50:22.466436",
     "exception": false,
     "start_time": "2023-05-16T13:50:22.444768",
     "status": "completed"
    },
    "tags": []
   },
   "outputs": [],
   "source": [
    "class CustomDataset(Dataset):\n",
    "    def __init__(self, dataframe):\n",
    "        self.df = dataframe        \n",
    "        \n",
    "    def __len__(self):\n",
    "        return self.df.shape[0]\n",
    "    \n",
    "    def __getitem__(self, idx):\n",
    "        \n",
    "        X = self.df['text'].iloc[idx]\n",
    "        y = torch.tensor(self.df['target'].iloc[idx], dtype=torch.float)\n",
    "            \n",
    "        return X,y"
   ]
  },
  {
   "cell_type": "code",
   "execution_count": 7,
   "id": "2d200c1b",
   "metadata": {
    "execution": {
     "iopub.execute_input": "2023-05-16T13:50:22.488752Z",
     "iopub.status.busy": "2023-05-16T13:50:22.488388Z",
     "iopub.status.idle": "2023-05-16T13:50:50.649454Z",
     "shell.execute_reply": "2023-05-16T13:50:50.648302Z"
    },
    "papermill": {
     "duration": 28.175837,
     "end_time": "2023-05-16T13:50:50.652516",
     "exception": false,
     "start_time": "2023-05-16T13:50:22.476679",
     "status": "completed"
    },
    "tags": []
   },
   "outputs": [
    {
     "data": {
      "application/vnd.jupyter.widget-view+json": {
       "model_id": "d8f1e1fac05b4915ace1dc523bd149bf",
       "version_major": 2,
       "version_minor": 0
      },
      "text/plain": [
       "Downloading (…)solve/main/vocab.txt:   0%|          | 0.00/232k [00:00<?, ?B/s]"
      ]
     },
     "metadata": {},
     "output_type": "display_data"
    },
    {
     "data": {
      "application/vnd.jupyter.widget-view+json": {
       "model_id": "50b1159aedeb44b4b79611afcc1f03c1",
       "version_major": 2,
       "version_minor": 0
      },
      "text/plain": [
       "Downloading (…)okenizer_config.json:   0%|          | 0.00/28.0 [00:00<?, ?B/s]"
      ]
     },
     "metadata": {},
     "output_type": "display_data"
    },
    {
     "data": {
      "application/vnd.jupyter.widget-view+json": {
       "model_id": "69288fe5467f4e07935f0392442004a0",
       "version_major": 2,
       "version_minor": 0
      },
      "text/plain": [
       "Downloading (…)lve/main/config.json:   0%|          | 0.00/570 [00:00<?, ?B/s]"
      ]
     },
     "metadata": {},
     "output_type": "display_data"
    },
    {
     "name": "stderr",
     "output_type": "stream",
     "text": [
      "/opt/conda/lib/python3.7/site-packages/pandas/core/indexing.py:1732: SettingWithCopyWarning: \n",
      "A value is trying to be set on a copy of a slice from a DataFrame\n",
      "\n",
      "See the caveats in the documentation: https://pandas.pydata.org/pandas-docs/stable/user_guide/indexing.html#returning-a-view-versus-a-copy\n",
      "  self._setitem_single_block(indexer, value, name)\n"
     ]
    }
   ],
   "source": [
    "tokenizer = BertTokenizer.from_pretrained('bert-base-uncased')\n",
    "\n",
    "for df in [train_df, val_df, test_df]:\n",
    "    for i in range(df.shape[0]):\n",
    "        # Removing unnecessary details from the text\n",
    "        df['text'].iloc[i] = re.sub(r'@\\w+\\s*', '', df['text'].iloc[i])\n",
    "        df['text'].iloc[i] = re.sub(r'#\\w+\\s*', '', df['text'].iloc[i])\n",
    "        df['text'].iloc[i] = re.sub(r'https?://\\S+', '', df['text'].iloc[i])\n",
    "        \n",
    "        df['text'].iloc[i] = tokenizer.encode(df['text'].iloc[i], add_special_tokens=True, padding='max_length', max_length=20, return_tensors='pt')[0][:20]"
   ]
  },
  {
   "cell_type": "code",
   "execution_count": 8,
   "id": "1b1b6449",
   "metadata": {
    "execution": {
     "iopub.execute_input": "2023-05-16T13:50:50.676073Z",
     "iopub.status.busy": "2023-05-16T13:50:50.674330Z",
     "iopub.status.idle": "2023-05-16T13:50:50.693727Z",
     "shell.execute_reply": "2023-05-16T13:50:50.692587Z"
    },
    "papermill": {
     "duration": 0.033189,
     "end_time": "2023-05-16T13:50:50.696283",
     "exception": false,
     "start_time": "2023-05-16T13:50:50.663094",
     "status": "completed"
    },
    "tags": []
   },
   "outputs": [
    {
     "data": {
      "text/plain": [
       "20.0"
      ]
     },
     "execution_count": 8,
     "metadata": {},
     "output_type": "execute_result"
    }
   ],
   "source": [
    "train_df['text'].apply(len).mean()"
   ]
  },
  {
   "cell_type": "code",
   "execution_count": 9,
   "id": "18821fde",
   "metadata": {
    "execution": {
     "iopub.execute_input": "2023-05-16T13:50:50.717008Z",
     "iopub.status.busy": "2023-05-16T13:50:50.716696Z",
     "iopub.status.idle": "2023-05-16T13:50:50.723145Z",
     "shell.execute_reply": "2023-05-16T13:50:50.722142Z"
    },
    "papermill": {
     "duration": 0.019342,
     "end_time": "2023-05-16T13:50:50.725356",
     "exception": false,
     "start_time": "2023-05-16T13:50:50.706014",
     "status": "completed"
    },
    "tags": []
   },
   "outputs": [
    {
     "data": {
      "text/plain": [
       "'vocab = build_vocab_from_iterator(train_df[\\'text\\'], min_freq=2)\\nvocab.insert_token(\\'<unk>\\', 0) # Unknown string            \\nvocab.set_default_index(vocab[\\'<unk>\\'])   \\nprint(f\"The length of the vocab is {len(vocab)}\")   '"
      ]
     },
     "execution_count": 9,
     "metadata": {},
     "output_type": "execute_result"
    }
   ],
   "source": [
    "\"\"\"vocab = build_vocab_from_iterator(train_df['text'], min_freq=2)\n",
    "vocab.insert_token('<unk>', 0) # Unknown string            \n",
    "vocab.set_default_index(vocab['<unk>'])   \n",
    "print(f\"The length of the vocab is {len(vocab)}\")   \"\"\""
   ]
  },
  {
   "cell_type": "markdown",
   "id": "9e045f94",
   "metadata": {
    "papermill": {
     "duration": 0.009548,
     "end_time": "2023-05-16T13:50:50.744768",
     "exception": false,
     "start_time": "2023-05-16T13:50:50.735220",
     "status": "completed"
    },
    "tags": []
   },
   "source": [
    "#### Working as intended!"
   ]
  },
  {
   "cell_type": "code",
   "execution_count": 10,
   "id": "1a3bb4e2",
   "metadata": {
    "execution": {
     "iopub.execute_input": "2023-05-16T13:50:50.766562Z",
     "iopub.status.busy": "2023-05-16T13:50:50.765612Z",
     "iopub.status.idle": "2023-05-16T13:50:50.770901Z",
     "shell.execute_reply": "2023-05-16T13:50:50.769959Z"
    },
    "papermill": {
     "duration": 0.018521,
     "end_time": "2023-05-16T13:50:50.773116",
     "exception": false,
     "start_time": "2023-05-16T13:50:50.754595",
     "status": "completed"
    },
    "tags": []
   },
   "outputs": [],
   "source": [
    "label_pipeline = lambda x: [0.,1.] if x == 1 else [1., 0.]"
   ]
  },
  {
   "cell_type": "markdown",
   "id": "67738798",
   "metadata": {
    "papermill": {
     "duration": 0.00971,
     "end_time": "2023-05-16T13:50:50.792693",
     "exception": false,
     "start_time": "2023-05-16T13:50:50.782983",
     "status": "completed"
    },
    "tags": []
   },
   "source": [
    "## Custom DataLoader"
   ]
  },
  {
   "cell_type": "code",
   "execution_count": 11,
   "id": "2f36fad1",
   "metadata": {
    "execution": {
     "iopub.execute_input": "2023-05-16T13:50:50.814435Z",
     "iopub.status.busy": "2023-05-16T13:50:50.814051Z",
     "iopub.status.idle": "2023-05-16T13:50:50.819307Z",
     "shell.execute_reply": "2023-05-16T13:50:50.818176Z"
    },
    "papermill": {
     "duration": 0.019023,
     "end_time": "2023-05-16T13:50:50.821590",
     "exception": false,
     "start_time": "2023-05-16T13:50:50.802567",
     "status": "completed"
    },
    "tags": []
   },
   "outputs": [],
   "source": [
    "train_dataset_custom = CustomDataset(train_df)\n",
    "val_dataset_custom = CustomDataset(val_df)\n",
    "test_dataset_custom = CustomDataset(test_df)"
   ]
  },
  {
   "cell_type": "code",
   "execution_count": 12,
   "id": "46634ecc",
   "metadata": {
    "execution": {
     "iopub.execute_input": "2023-05-16T13:50:50.843858Z",
     "iopub.status.busy": "2023-05-16T13:50:50.842788Z",
     "iopub.status.idle": "2023-05-16T13:50:50.852882Z",
     "shell.execute_reply": "2023-05-16T13:50:50.851912Z"
    },
    "papermill": {
     "duration": 0.023617,
     "end_time": "2023-05-16T13:50:50.855223",
     "exception": false,
     "start_time": "2023-05-16T13:50:50.831606",
     "status": "completed"
    },
    "tags": []
   },
   "outputs": [],
   "source": [
    "def collate_batch(batch):\n",
    "    text_list, label_list = [], []\n",
    "    for (_text, _label) in batch:\n",
    "        label_list.append(label_pipeline(_label))\n",
    "        processed_text = torch.tensor(_text, dtype=torch.int64).view(-1)\n",
    "        text_list.append(processed_text.numpy())\n",
    "    label_list = torch.tensor(label_list, dtype=torch.int64).view(len(batch),-1)\n",
    "    text_list = torch.from_numpy(np.array(text_list))\n",
    "    return text_list.to(device),label_list.to(device)\n",
    "\n",
    "train_dataloader = DataLoader(train_dataset_custom, batch_size=32, shuffle=True, collate_fn=collate_batch)\n",
    "val_dataloader = DataLoader(val_dataset_custom, batch_size=32, shuffle=False, collate_fn=collate_batch)\n",
    "test_dataloader = DataLoader(test_dataset_custom, batch_size=1, shuffle=False, collate_fn=collate_batch)"
   ]
  },
  {
   "cell_type": "code",
   "execution_count": 13,
   "id": "b0013f08",
   "metadata": {
    "execution": {
     "iopub.execute_input": "2023-05-16T13:50:50.877214Z",
     "iopub.status.busy": "2023-05-16T13:50:50.876267Z",
     "iopub.status.idle": "2023-05-16T13:50:55.440007Z",
     "shell.execute_reply": "2023-05-16T13:50:55.438368Z"
    },
    "papermill": {
     "duration": 4.577197,
     "end_time": "2023-05-16T13:50:55.442517",
     "exception": false,
     "start_time": "2023-05-16T13:50:50.865320",
     "status": "completed"
    },
    "tags": []
   },
   "outputs": [
    {
     "name": "stderr",
     "output_type": "stream",
     "text": [
      "/opt/conda/lib/python3.7/site-packages/ipykernel_launcher.py:5: UserWarning: To copy construct from a tensor, it is recommended to use sourceTensor.clone().detach() or sourceTensor.clone().detach().requires_grad_(True), rather than torch.tensor(sourceTensor).\n",
      "  \"\"\"\n"
     ]
    },
    {
     "name": "stdout",
     "output_type": "stream",
     "text": [
      "torch.Size([32, 20]) torch.Size([32, 2])\n"
     ]
    }
   ],
   "source": [
    "text, label = next(iter(train_dataloader))\n",
    "print(text.shape, label.shape)"
   ]
  },
  {
   "cell_type": "code",
   "execution_count": 14,
   "id": "b19a3c02",
   "metadata": {
    "execution": {
     "iopub.execute_input": "2023-05-16T13:50:55.464593Z",
     "iopub.status.busy": "2023-05-16T13:50:55.464227Z",
     "iopub.status.idle": "2023-05-16T13:50:55.484407Z",
     "shell.execute_reply": "2023-05-16T13:50:55.483238Z"
    },
    "papermill": {
     "duration": 0.034559,
     "end_time": "2023-05-16T13:50:55.487283",
     "exception": false,
     "start_time": "2023-05-16T13:50:55.452724",
     "status": "completed"
    },
    "tags": []
   },
   "outputs": [
    {
     "data": {
      "text/plain": [
       "tensor([[  101,  1045,  2064,  1005,  1056,  3422, 11937,  2102,  2265,  2049,\n",
       "          2066,  1037,  5469,  3185,  2000,  2033,  1045,  2131, 28945,  2019],\n",
       "        [  101,  5262,  1998,  1037, 17431, 26136,  2100,  2801,  2000,  2173,\n",
       "          2012,  1996,  8680,  4765,  2890,  1997,  1037,  2047,  2695,  1011],\n",
       "        [  101,  6302,  1024,  7198,  1004, 23713,  1025,  2303,  2573, 25536,\n",
       "          4524,  1999,  2566,  2072, 10105, 19099,  2630,  2007,  6967, 28315],\n",
       "        [  101,  1996, 12168,  1006,  3521,  2022,  2588,  2032,  1007,  2056,\n",
       "          1005,  3828,  4426,  2013,  3109, 10273,  2130,  2065,  2009,  2003],\n",
       "        [  101,  2052,  1005,  2310,  2042,  2307,  2065, 16914,  2072,  4213,\n",
       "          2074, 16379,  2008,  2210,  9350,  1012,   102,     0,     0,     0],\n",
       "        [  101,  1996,  6745,  2013,  7657,  2003,  1037,  3035,  1999,   102,\n",
       "             0,     0,     0,     0,     0,     0,     0,     0,     0,     0],\n",
       "        [  101,  1999,  1037,  3959,  2017,  2387,  1037,  2126,  2000,  5788,\n",
       "          1998,  2017,  2020,  2440,  1997,  6569,  1012,   102,     0,     0],\n",
       "        [  101,  2061,  2171,  2035,  1996,  3032,  2057,  1005,  2310, 10836,\n",
       "          1013, 18897,  4998, 12917,  1999,  2167,  3088,  1999,  2197,  1019],\n",
       "        [  101,  9704,  1997,  1005,  3004,  1009,  5008,  1005,  2006, 10474,\n",
       "          9997,  2382, 10020,  3188,  2000,  1002, 23616,  8586,  7859,   102],\n",
       "        [  101,  2013, 25594,  2000,  3449,  3370,  2893,  2067,  2006,  2026,\n",
       "          2519,  5094,  2216,  5627,  2000,  2393,  3209,   102,     0,     0],\n",
       "        [  101,  4283, 12411,  1012, 27132,  8602,  2085,  9241,  2188,  2138,\n",
       "          2662,  2003,  1037,  4121,  4895,  8663, 13181, 11001,  3748,  2543],\n",
       "        [  101,  1012,  2720,  1012,  2343,  2017,  2024,  1996,  5221,  9452,\n",
       "          1998,  4390,  9338,  1999,  1996,  2088,  1012,  2017,  3443,  9452],\n",
       "        [  101,  1045,  2018,  1016,  3180,  4157,  2015,  1998,  1037,  5749,\n",
       "          7559,  1009,  4157,  2651,  1998,  1045,  1005,  1049,  2145,  5458],\n",
       "        [  101,  9268, 19267, 11385,  2013,  1996,  2225,  3023,  1024,  8129,\n",
       "          6157,  4372, 21663,  8462, 15758,  1998,  5057,  2578,  3208,  1997],\n",
       "        [  101, 26718,  2078,  3304,  1024,  2945,  2000,  9790,  2058,  8009,\n",
       "         20589,  2015,  1024,  2062,  2084,  2871,  2945,  5360,  2011,  1996],\n",
       "        [  101,  2678,  1024,  1005,  2057,  1005,  2128,  8130,  2039,  4230,\n",
       "          2013,  2300,  1005,  1024,  5343,  2869,  2024,  6575,  2005,  5606],\n",
       "        [  101,  3019, 11320, 23736, 10719,   999,   999,   999,   999,   999,\n",
       "           999,   999,   999,   999,   999,   999,   102,     0,     0,     0],\n",
       "        [  101, 10474,  2003,  2725,  1037,  4175,  2091,  2000,  1996, 11421,\n",
       "          2075,  1998,  3361,  7859,  1997,  4380,   102,     0,     0,     0],\n",
       "        [  101,  7752, 11484, 14572,  6904, 23398,  3298,  1999, 19360,  3545,\n",
       "           102,     0,     0,     0,     0,     0,     0,     0,     0,     0],\n",
       "        [  101,  1996,  4377,  2033,  7834,  2031,  3985,  9913,  2006,  1996,\n",
       "          4274,   102,     0,     0,     0,     0,     0,     0,     0,     0],\n",
       "        [  101,  1045,  3984,  5665,  2196,  2022,  2583,  2000,  2175,  2000,\n",
       "         26865,  1012,  1012,  1012,   102,     0,     0,     0,     0,     0],\n",
       "        [  101,  1045,  1005,  2222, 10083,  2026,  2166,  2065,  1045,  2031,\n",
       "          2000,  1012,   102,     0,     0,     0,     0,     0,     0,     0],\n",
       "        [  101,  1045,  5223,  2317,  2111,  9587,   102,     0,     0,     0,\n",
       "             0,     0,     0,     0,     0,     0,     0,     0,     0,     0],\n",
       "        [  101,  1045,  2001,  3241,  2055,  2017,  2651,  2043,  1045,  2001,\n",
       "          3752,  2055,  1996,  3748,  8769,   102,     0,     0,     0,     0],\n",
       "        [  101, 17605,  3936,  2004,  2662, 14734, 18916,  6597,   102,     0,\n",
       "             0,     0,     0,     0,     0,     0,     0,     0,     0,     0],\n",
       "        [  101,  8579,  7698,  1017,  6215,  7775,  2000, 17762,  1024,  8579,\n",
       "          7698,  1017,  7622,  3041,  2023,  2733,  2007,  1037,  7942,  6494],\n",
       "        [  101,  1041, 24290,  1024,  6041,  2188, 24209, 20486, 10196,  2094,\n",
       "          2058,  2825,  1041, 24290,  2553,  1012,  1012,  3141,  4790,  1024],\n",
       "        [  101,  1059,  9148, 25755,  2887,  2390,  3212,  2510,  2900,  5898,\n",
       "          3422,  2162,  3054,  2080,  1059,  2860,  2487,  1016,  1011,  2440],\n",
       "        [  101,  2043,  1045,  7200,  2009,  4165,  2066,  1037,  7266, 20654,\n",
       "          1012,  5292,  3270,  4658,   102,     0,     0,     0,     0,     0],\n",
       "        [  101,  2023,  2003,  1996,  2034,  2051,  1037,  1056, 28394,  2102,\n",
       "          2038, 10676,  2039,  2471,  2431,  1037,  2154,  2101,  1012,  1012],\n",
       "        [  101,  3398,  2021,  2108,  3435,  1998,  2725,  5186,  2152,  4053,\n",
       "          2003,  2054,  2049,  2035,  2055,  2065,  2017,  2215,  3435,  2059],\n",
       "        [  101, 15393,  2061, 12672, 10626,  2001,  4110,  1999,  2023,  9788,\n",
       "          9274,  6302,  2006,  2009,  1005,  1055,  2126,  2000,  6629,   999]],\n",
       "       device='cuda:0')"
      ]
     },
     "execution_count": 14,
     "metadata": {},
     "output_type": "execute_result"
    }
   ],
   "source": [
    "text"
   ]
  },
  {
   "cell_type": "markdown",
   "id": "f6e9ccd3",
   "metadata": {
    "papermill": {
     "duration": 0.010069,
     "end_time": "2023-05-16T13:50:55.507967",
     "exception": false,
     "start_time": "2023-05-16T13:50:55.497898",
     "status": "completed"
    },
    "tags": []
   },
   "source": [
    "#### Before sending the data to our model, collate_fn function works on a batch of samples generated from DataLoader.\n",
    "#### Label is a tensor saving the labels of individual text entries.\n",
    "#### Read more about it [here](https://pytorch.org/tutorials/beginner/text_sentiment_ngrams_tutorial.html)."
   ]
  },
  {
   "cell_type": "markdown",
   "id": "3d662902",
   "metadata": {
    "papermill": {
     "duration": 0.011595,
     "end_time": "2023-05-16T13:50:55.529718",
     "exception": false,
     "start_time": "2023-05-16T13:50:55.518123",
     "status": "completed"
    },
    "tags": []
   },
   "source": [
    "# Modeling"
   ]
  },
  {
   "cell_type": "code",
   "execution_count": 15,
   "id": "12bf4c95",
   "metadata": {
    "execution": {
     "iopub.execute_input": "2023-05-16T13:50:55.552030Z",
     "iopub.status.busy": "2023-05-16T13:50:55.551378Z",
     "iopub.status.idle": "2023-05-16T13:50:55.563156Z",
     "shell.execute_reply": "2023-05-16T13:50:55.562109Z"
    },
    "papermill": {
     "duration": 0.02561,
     "end_time": "2023-05-16T13:50:55.565515",
     "exception": false,
     "start_time": "2023-05-16T13:50:55.539905",
     "status": "completed"
    },
    "tags": []
   },
   "outputs": [],
   "source": [
    "class TextClassificationModel(nn.Module):\n",
    "\n",
    "    def __init__(self, vocab_size: int, embedding_dim: int, d_hid: int, dropout: float = 0.2, n_layers: int = 6, bidirectional = False):\n",
    "        super().__init__()\n",
    "        self.hidden_size = d_hid\n",
    "        self.n_layers = n_layers \n",
    "        \n",
    "        self.embeddings = nn.Embedding(num_embeddings = vocab_size, embedding_dim = embedding_dim)\n",
    "        self.lstm = nn.LSTM(batch_first = True, bidirectional = bidirectional, input_size = embedding_dim, hidden_size = d_hid, dropout = dropout, num_layers = n_layers)\n",
    "        self.linear_input_size = 2 if bidirectional == True else 1\n",
    "        self.classifier = nn.Linear(d_hid * self.linear_input_size, 2)  \n",
    "\n",
    "    def forward(self, src: torch.Tensor) -> torch.Tensor:\n",
    "        h0 = torch.zeros(self.n_layers * self.linear_input_size, src.size(0), self.hidden_size).to(device)\n",
    "        c0 = torch.zeros(self.n_layers * self.linear_input_size, src.size(0), self.hidden_size).to(device)\n",
    "        \n",
    "        out = self.embeddings(src)\n",
    "        out, (h_n, c_n) = self.lstm(out, (h0, c0)) # out - [batch_size, seq_len, d_hid * 2 if bidirectional else d_hid]\n",
    "        out = out[:, -1, :]\n",
    "        out = self.classifier(out) # [batch_size, output_size]\n",
    "        return out"
   ]
  },
  {
   "cell_type": "markdown",
   "id": "2268c637",
   "metadata": {
    "papermill": {
     "duration": 0.013416,
     "end_time": "2023-05-16T13:50:55.589117",
     "exception": false,
     "start_time": "2023-05-16T13:50:55.575701",
     "status": "completed"
    },
    "tags": []
   },
   "source": [
    "# Training"
   ]
  },
  {
   "cell_type": "code",
   "execution_count": 16,
   "id": "80ccc74a",
   "metadata": {
    "execution": {
     "iopub.execute_input": "2023-05-16T13:50:55.612095Z",
     "iopub.status.busy": "2023-05-16T13:50:55.610976Z",
     "iopub.status.idle": "2023-05-16T13:50:56.783173Z",
     "shell.execute_reply": "2023-05-16T13:50:56.782037Z"
    },
    "papermill": {
     "duration": 1.186498,
     "end_time": "2023-05-16T13:50:56.786049",
     "exception": false,
     "start_time": "2023-05-16T13:50:55.599551",
     "status": "completed"
    },
    "tags": []
   },
   "outputs": [],
   "source": [
    "num_class = 2\n",
    "emsize = 300\n",
    "model = TextClassificationModel(vocab_size = tokenizer.vocab_size, embedding_dim = emsize, d_hid = 128, dropout = 0.4, n_layers = 6, bidirectional = True).to(device)"
   ]
  },
  {
   "cell_type": "code",
   "execution_count": 17,
   "id": "1b597c85",
   "metadata": {
    "execution": {
     "iopub.execute_input": "2023-05-16T13:50:56.809003Z",
     "iopub.status.busy": "2023-05-16T13:50:56.808079Z",
     "iopub.status.idle": "2023-05-16T13:50:56.817358Z",
     "shell.execute_reply": "2023-05-16T13:50:56.816219Z"
    },
    "papermill": {
     "duration": 0.022888,
     "end_time": "2023-05-16T13:50:56.819567",
     "exception": false,
     "start_time": "2023-05-16T13:50:56.796679",
     "status": "completed"
    },
    "tags": []
   },
   "outputs": [
    {
     "data": {
      "text/plain": [
       "=================================================================\n",
       "Layer (type:depth-idx)                   Param #\n",
       "=================================================================\n",
       "TextClassificationModel                  --\n",
       "├─Embedding: 1-1                         9,156,600\n",
       "├─LSTM: 1-2                              2,416,640\n",
       "├─Linear: 1-3                            514\n",
       "=================================================================\n",
       "Total params: 11,573,754\n",
       "Trainable params: 11,573,754\n",
       "Non-trainable params: 0\n",
       "================================================================="
      ]
     },
     "execution_count": 17,
     "metadata": {},
     "output_type": "execute_result"
    }
   ],
   "source": [
    "summary(model)"
   ]
  },
  {
   "cell_type": "code",
   "execution_count": 18,
   "id": "39b66872",
   "metadata": {
    "execution": {
     "iopub.execute_input": "2023-05-16T13:50:56.842179Z",
     "iopub.status.busy": "2023-05-16T13:50:56.841314Z",
     "iopub.status.idle": "2023-05-16T13:50:56.857624Z",
     "shell.execute_reply": "2023-05-16T13:50:56.856688Z"
    },
    "papermill": {
     "duration": 0.030057,
     "end_time": "2023-05-16T13:50:56.859974",
     "exception": false,
     "start_time": "2023-05-16T13:50:56.829917",
     "status": "completed"
    },
    "tags": []
   },
   "outputs": [],
   "source": [
    "def train(dataloader):\n",
    "    model.train()\n",
    "    total_acc, total_count, total_loss = 0, 0, 0\n",
    "    log_interval = 50\n",
    "    start_time = time.time()\n",
    "\n",
    "    for idx, (text, label) in enumerate(dataloader):\n",
    "        optimizer.zero_grad()\n",
    "        predicted_label = model(text)\n",
    "        loss = criterion(predicted_label, label.float())\n",
    "        loss.backward()\n",
    "        optimizer.step()\n",
    "        torch.nn.utils.clip_grad_norm_(model.parameters(), 1)\n",
    "        total_acc += (nn.Sigmoid()(predicted_label).argmax(1) == label.argmax(1)).sum().item()\n",
    "        total_count += label.size(0)\n",
    "        total_loss += loss.item()\n",
    "        if idx % log_interval == 0 and idx > 0:\n",
    "            elapsed = time.time() - start_time\n",
    "            print('| epoch {:3d} | {:5d}/{:5d} batches '\n",
    "                  '| accuracy {:8.3f} | loss {:8.3f}'.format(epoch, idx, len(dataloader),total_acc/total_count, total_loss/(total_count/label.size(0))))\n",
    "            total_acc, total_count, total_loss = 0, 0, 0\n",
    "            start_time = time.time()\n",
    "\n",
    "def evaluate(dataloader):\n",
    "    model.eval()\n",
    "    total_acc, total_count, total_loss, count = 0, 0, 0, 0\n",
    "\n",
    "    with torch.no_grad():\n",
    "        for idx, (text, label) in enumerate(dataloader):\n",
    "            predicted_label = model(text)\n",
    "            loss = criterion(predicted_label, label.float())\n",
    "            total_acc += (nn.Sigmoid()(predicted_label).argmax(1) == label.argmax(1)).sum().item()\n",
    "            total_count += label.size(0)\n",
    "            total_loss += loss.item()\n",
    "            count += 1\n",
    "    return total_acc/total_count, total_loss/count\n",
    "\n",
    "def submission(dataloader): # Code for submission\n",
    "    preds = []\n",
    "    model.eval()\n",
    "\n",
    "    with torch.no_grad():\n",
    "        for idx, (text, label) in enumerate(dataloader):\n",
    "            predicted_label = nn.Softmax(dim=1)(model(text))\n",
    "            preds.append(predicted_label.argmax(1).item())\n",
    "            \n",
    "    return preds"
   ]
  },
  {
   "cell_type": "code",
   "execution_count": 19,
   "id": "ff1c6d02",
   "metadata": {
    "execution": {
     "iopub.execute_input": "2023-05-16T13:50:56.883276Z",
     "iopub.status.busy": "2023-05-16T13:50:56.882438Z",
     "iopub.status.idle": "2023-05-16T13:51:38.538908Z",
     "shell.execute_reply": "2023-05-16T13:51:38.537784Z"
    },
    "papermill": {
     "duration": 41.672459,
     "end_time": "2023-05-16T13:51:38.543224",
     "exception": false,
     "start_time": "2023-05-16T13:50:56.870765",
     "status": "completed"
    },
    "tags": []
   },
   "outputs": [
    {
     "data": {
      "application/vnd.jupyter.widget-view+json": {
       "model_id": "a90d0e8caf0d4e7c9b27e38056c06342",
       "version_major": 2,
       "version_minor": 0
      },
      "text/plain": [
       "  0%|          | 0/10 [00:00<?, ?it/s]"
      ]
     },
     "metadata": {},
     "output_type": "display_data"
    },
    {
     "name": "stderr",
     "output_type": "stream",
     "text": [
      "/opt/conda/lib/python3.7/site-packages/ipykernel_launcher.py:5: UserWarning: To copy construct from a tensor, it is recommended to use sourceTensor.clone().detach() or sourceTensor.clone().detach().requires_grad_(True), rather than torch.tensor(sourceTensor).\n",
      "  \"\"\"\n"
     ]
    },
    {
     "name": "stdout",
     "output_type": "stream",
     "text": [
      "| epoch   1 |    50/  167 batches | accuracy    0.591 | loss    0.678\n",
      "| epoch   1 |   100/  167 batches | accuracy    0.562 | loss    0.691\n",
      "| epoch   1 |   150/  167 batches | accuracy    0.604 | loss    0.675\n",
      "-----------------------------------------------------------\n",
      "| end of epoch   1 | time:  5.86s | valid accuracy    0.619 | valid loss    0.626\n",
      "-----------------------------------------------------------\n",
      "\n",
      "\n",
      "| epoch   2 |    50/  167 batches | accuracy    0.692 | loss    0.603\n",
      "| epoch   2 |   100/  167 batches | accuracy    0.701 | loss    0.624\n",
      "| epoch   2 |   150/  167 batches | accuracy    0.734 | loss    0.579\n",
      "-----------------------------------------------------------\n",
      "| end of epoch   2 | time:  3.98s | valid accuracy    0.711 | valid loss    0.581\n",
      "-----------------------------------------------------------\n",
      "\n",
      "\n",
      "| epoch   3 |    50/  167 batches | accuracy    0.774 | loss    0.516\n",
      "| epoch   3 |   100/  167 batches | accuracy    0.786 | loss    0.496\n",
      "| epoch   3 |   150/  167 batches | accuracy    0.801 | loss    0.469\n",
      "-----------------------------------------------------------\n",
      "| end of epoch   3 | time:  4.00s | valid accuracy    0.770 | valid loss    0.514\n",
      "-----------------------------------------------------------\n",
      "\n",
      "\n",
      "| epoch   4 |    50/  167 batches | accuracy    0.866 | loss    0.370\n",
      "| epoch   4 |   100/  167 batches | accuracy    0.863 | loss    0.358\n",
      "| epoch   4 |   150/  167 batches | accuracy    0.861 | loss    0.361\n",
      "-----------------------------------------------------------\n",
      "| end of epoch   4 | time:  4.17s | valid accuracy    0.764 | valid loss    0.537\n",
      "-----------------------------------------------------------\n",
      "\n",
      "\n",
      "| epoch   5 |    50/  167 batches | accuracy    0.887 | loss    0.314\n",
      "| epoch   5 |   100/  167 batches | accuracy    0.891 | loss    0.294\n",
      "| epoch   5 |   150/  167 batches | accuracy    0.891 | loss    0.307\n",
      "-----------------------------------------------------------\n",
      "| end of epoch   5 | time:  3.91s | valid accuracy    0.759 | valid loss    0.564\n",
      "-----------------------------------------------------------\n",
      "\n",
      "\n",
      "| epoch   6 |    50/  167 batches | accuracy    0.903 | loss    0.266\n",
      "| epoch   6 |   100/  167 batches | accuracy    0.909 | loss    0.269\n",
      "| epoch   6 |   150/  167 batches | accuracy    0.900 | loss    0.299\n",
      "-----------------------------------------------------------\n",
      "| end of epoch   6 | time:  3.91s | valid accuracy    0.759 | valid loss    0.536\n",
      "-----------------------------------------------------------\n",
      "\n",
      "\n",
      "| epoch   7 |    50/  167 batches | accuracy    0.911 | loss    0.263\n",
      "| epoch   7 |   100/  167 batches | accuracy    0.922 | loss    0.226\n",
      "| epoch   7 |   150/  167 batches | accuracy    0.907 | loss    0.281\n",
      "-----------------------------------------------------------\n",
      "| end of epoch   7 | time:  3.99s | valid accuracy    0.759 | valid loss    0.562\n",
      "-----------------------------------------------------------\n",
      "\n",
      "\n",
      "| epoch   8 |    50/  167 batches | accuracy    0.926 | loss    0.229\n",
      "| epoch   8 |   100/  167 batches | accuracy    0.927 | loss    0.214\n",
      "| epoch   8 |   150/  167 batches | accuracy    0.922 | loss    0.234\n",
      "-----------------------------------------------------------\n",
      "| end of epoch   8 | time:  3.91s | valid accuracy    0.766 | valid loss    0.774\n",
      "-----------------------------------------------------------\n",
      "\n",
      "\n",
      "| epoch   9 |    50/  167 batches | accuracy    0.930 | loss    0.203\n",
      "| epoch   9 |   100/  167 batches | accuracy    0.944 | loss    0.180\n",
      "| epoch   9 |   150/  167 batches | accuracy    0.935 | loss    0.199\n",
      "-----------------------------------------------------------\n",
      "| end of epoch   9 | time:  3.90s | valid accuracy    0.759 | valid loss    0.765\n",
      "-----------------------------------------------------------\n",
      "\n",
      "\n",
      "| epoch  10 |    50/  167 batches | accuracy    0.952 | loss    0.163\n",
      "| epoch  10 |   100/  167 batches | accuracy    0.961 | loss    0.137\n",
      "| epoch  10 |   150/  167 batches | accuracy    0.940 | loss    0.199\n",
      "-----------------------------------------------------------\n",
      "| end of epoch  10 | time:  3.99s | valid accuracy    0.766 | valid loss    0.759\n",
      "-----------------------------------------------------------\n",
      "\n",
      "\n"
     ]
    }
   ],
   "source": [
    "EPOCHS = 10\n",
    "\n",
    "criterion = nn.BCEWithLogitsLoss()\n",
    "lr = 0.005\n",
    "optimizer = torch.optim.Adam(model.parameters(), lr = lr)\n",
    "scheduler = torch.optim.lr_scheduler.StepLR(optimizer, 1.0, gamma=0.95)\n",
    "total_accu = None\n",
    "\n",
    "for epoch in tqdm(range(1, EPOCHS + 1)):\n",
    "    epoch_start_time = time.time()\n",
    "    train(train_dataloader)\n",
    "    accu_val, accu_loss = evaluate(val_dataloader)\n",
    "    if total_accu is not None and total_accu > accu_val:\n",
    "        scheduler.step()\n",
    "    else:\n",
    "        total_accu = accu_val\n",
    "    print('-' * 59)\n",
    "    print('| end of epoch {:3d} | time: {:5.2f}s | '\n",
    "          'valid accuracy {:8.3f} | valid loss {:8.3f}'.format(epoch,\n",
    "                                           time.time() - epoch_start_time,\n",
    "                                           accu_val, accu_loss))\n",
    "    print('-' * 59)\n",
    "    print(\"\\n\")"
   ]
  },
  {
   "cell_type": "markdown",
   "id": "cf6bbd0b",
   "metadata": {
    "papermill": {
     "duration": 0.013414,
     "end_time": "2023-05-16T13:51:38.570492",
     "exception": false,
     "start_time": "2023-05-16T13:51:38.557078",
     "status": "completed"
    },
    "tags": []
   },
   "source": [
    "# Submission"
   ]
  },
  {
   "cell_type": "code",
   "execution_count": 20,
   "id": "89885993",
   "metadata": {
    "execution": {
     "iopub.execute_input": "2023-05-16T13:51:38.599238Z",
     "iopub.status.busy": "2023-05-16T13:51:38.598893Z",
     "iopub.status.idle": "2023-05-16T13:51:47.426751Z",
     "shell.execute_reply": "2023-05-16T13:51:47.425701Z"
    },
    "papermill": {
     "duration": 8.845936,
     "end_time": "2023-05-16T13:51:47.429973",
     "exception": false,
     "start_time": "2023-05-16T13:51:38.584037",
     "status": "completed"
    },
    "tags": []
   },
   "outputs": [
    {
     "name": "stderr",
     "output_type": "stream",
     "text": [
      "/opt/conda/lib/python3.7/site-packages/ipykernel_launcher.py:5: UserWarning: To copy construct from a tensor, it is recommended to use sourceTensor.clone().detach() or sourceTensor.clone().detach().requires_grad_(True), rather than torch.tensor(sourceTensor).\n",
      "  \"\"\"\n"
     ]
    }
   ],
   "source": [
    "preds = submission(test_dataloader)\n",
    "\n",
    "sample['target'] = preds\n",
    "\n",
    "sample.to_csv('submission.csv', index=False)"
   ]
  },
  {
   "cell_type": "code",
   "execution_count": null,
   "id": "046c5d13",
   "metadata": {
    "papermill": {
     "duration": 0.01396,
     "end_time": "2023-05-16T13:51:47.458352",
     "exception": false,
     "start_time": "2023-05-16T13:51:47.444392",
     "status": "completed"
    },
    "tags": []
   },
   "outputs": [],
   "source": []
  }
 ],
 "metadata": {
  "kernelspec": {
   "display_name": "Python 3",
   "language": "python",
   "name": "python3"
  },
  "language_info": {
   "codemirror_mode": {
    "name": "ipython",
    "version": 3
   },
   "file_extension": ".py",
   "mimetype": "text/x-python",
   "name": "python",
   "nbconvert_exporter": "python",
   "pygments_lexer": "ipython3",
   "version": "3.7.12"
  },
  "papermill": {
   "default_parameters": {},
   "duration": 110.994914,
   "end_time": "2023-05-16T13:51:51.117809",
   "environment_variables": {},
   "exception": null,
   "input_path": "__notebook__.ipynb",
   "output_path": "__notebook__.ipynb",
   "parameters": {},
   "start_time": "2023-05-16T13:50:00.122895",
   "version": "2.4.0"
  },
  "widgets": {
   "application/vnd.jupyter.widget-state+json": {
    "state": {
     "0997905681d34eefbff82963b2ae40f4": {
      "model_module": "@jupyter-widgets/controls",
      "model_module_version": "1.5.0",
      "model_name": "DescriptionStyleModel",
      "state": {
       "_model_module": "@jupyter-widgets/controls",
       "_model_module_version": "1.5.0",
       "_model_name": "DescriptionStyleModel",
       "_view_count": null,
       "_view_module": "@jupyter-widgets/base",
       "_view_module_version": "1.2.0",
       "_view_name": "StyleView",
       "description_width": ""
      }
     },
     "0a9a2a3748f94888b06ff3ccc7ee7a1b": {
      "model_module": "@jupyter-widgets/controls",
      "model_module_version": "1.5.0",
      "model_name": "DescriptionStyleModel",
      "state": {
       "_model_module": "@jupyter-widgets/controls",
       "_model_module_version": "1.5.0",
       "_model_name": "DescriptionStyleModel",
       "_view_count": null,
       "_view_module": "@jupyter-widgets/base",
       "_view_module_version": "1.2.0",
       "_view_name": "StyleView",
       "description_width": ""
      }
     },
     "174a7bfc2a36499ca43b6537b63d73ba": {
      "model_module": "@jupyter-widgets/controls",
      "model_module_version": "1.5.0",
      "model_name": "ProgressStyleModel",
      "state": {
       "_model_module": "@jupyter-widgets/controls",
       "_model_module_version": "1.5.0",
       "_model_name": "ProgressStyleModel",
       "_view_count": null,
       "_view_module": "@jupyter-widgets/base",
       "_view_module_version": "1.2.0",
       "_view_name": "StyleView",
       "bar_color": null,
       "description_width": ""
      }
     },
     "1b4faac7bfe843589ba5fffb93f589a4": {
      "model_module": "@jupyter-widgets/base",
      "model_module_version": "1.2.0",
      "model_name": "LayoutModel",
      "state": {
       "_model_module": "@jupyter-widgets/base",
       "_model_module_version": "1.2.0",
       "_model_name": "LayoutModel",
       "_view_count": null,
       "_view_module": "@jupyter-widgets/base",
       "_view_module_version": "1.2.0",
       "_view_name": "LayoutView",
       "align_content": null,
       "align_items": null,
       "align_self": null,
       "border": null,
       "bottom": null,
       "display": null,
       "flex": null,
       "flex_flow": null,
       "grid_area": null,
       "grid_auto_columns": null,
       "grid_auto_flow": null,
       "grid_auto_rows": null,
       "grid_column": null,
       "grid_gap": null,
       "grid_row": null,
       "grid_template_areas": null,
       "grid_template_columns": null,
       "grid_template_rows": null,
       "height": null,
       "justify_content": null,
       "justify_items": null,
       "left": null,
       "margin": null,
       "max_height": null,
       "max_width": null,
       "min_height": null,
       "min_width": null,
       "object_fit": null,
       "object_position": null,
       "order": null,
       "overflow": null,
       "overflow_x": null,
       "overflow_y": null,
       "padding": null,
       "right": null,
       "top": null,
       "visibility": null,
       "width": null
      }
     },
     "1d3dee98ef4c48648e185be67507a16c": {
      "model_module": "@jupyter-widgets/controls",
      "model_module_version": "1.5.0",
      "model_name": "DescriptionStyleModel",
      "state": {
       "_model_module": "@jupyter-widgets/controls",
       "_model_module_version": "1.5.0",
       "_model_name": "DescriptionStyleModel",
       "_view_count": null,
       "_view_module": "@jupyter-widgets/base",
       "_view_module_version": "1.2.0",
       "_view_name": "StyleView",
       "description_width": ""
      }
     },
     "29ba0ee01461492ebafa235ac34227e9": {
      "model_module": "@jupyter-widgets/base",
      "model_module_version": "1.2.0",
      "model_name": "LayoutModel",
      "state": {
       "_model_module": "@jupyter-widgets/base",
       "_model_module_version": "1.2.0",
       "_model_name": "LayoutModel",
       "_view_count": null,
       "_view_module": "@jupyter-widgets/base",
       "_view_module_version": "1.2.0",
       "_view_name": "LayoutView",
       "align_content": null,
       "align_items": null,
       "align_self": null,
       "border": null,
       "bottom": null,
       "display": null,
       "flex": null,
       "flex_flow": null,
       "grid_area": null,
       "grid_auto_columns": null,
       "grid_auto_flow": null,
       "grid_auto_rows": null,
       "grid_column": null,
       "grid_gap": null,
       "grid_row": null,
       "grid_template_areas": null,
       "grid_template_columns": null,
       "grid_template_rows": null,
       "height": null,
       "justify_content": null,
       "justify_items": null,
       "left": null,
       "margin": null,
       "max_height": null,
       "max_width": null,
       "min_height": null,
       "min_width": null,
       "object_fit": null,
       "object_position": null,
       "order": null,
       "overflow": null,
       "overflow_x": null,
       "overflow_y": null,
       "padding": null,
       "right": null,
       "top": null,
       "visibility": null,
       "width": null
      }
     },
     "29e26e7c7dab4f299c97bc5682259c9e": {
      "model_module": "@jupyter-widgets/controls",
      "model_module_version": "1.5.0",
      "model_name": "DescriptionStyleModel",
      "state": {
       "_model_module": "@jupyter-widgets/controls",
       "_model_module_version": "1.5.0",
       "_model_name": "DescriptionStyleModel",
       "_view_count": null,
       "_view_module": "@jupyter-widgets/base",
       "_view_module_version": "1.2.0",
       "_view_name": "StyleView",
       "description_width": ""
      }
     },
     "2adf2556eb114658b9db1d9933f35c34": {
      "model_module": "@jupyter-widgets/controls",
      "model_module_version": "1.5.0",
      "model_name": "FloatProgressModel",
      "state": {
       "_dom_classes": [],
       "_model_module": "@jupyter-widgets/controls",
       "_model_module_version": "1.5.0",
       "_model_name": "FloatProgressModel",
       "_view_count": null,
       "_view_module": "@jupyter-widgets/controls",
       "_view_module_version": "1.5.0",
       "_view_name": "ProgressView",
       "bar_style": "success",
       "description": "",
       "description_tooltip": null,
       "layout": "IPY_MODEL_b547005353eb45c7937a6768923e31e3",
       "max": 570.0,
       "min": 0.0,
       "orientation": "horizontal",
       "style": "IPY_MODEL_e04b61db72a5467ab39ac203fb049419",
       "value": 570.0
      }
     },
     "31868bd09f104e0ea81912ffdd38c010": {
      "model_module": "@jupyter-widgets/base",
      "model_module_version": "1.2.0",
      "model_name": "LayoutModel",
      "state": {
       "_model_module": "@jupyter-widgets/base",
       "_model_module_version": "1.2.0",
       "_model_name": "LayoutModel",
       "_view_count": null,
       "_view_module": "@jupyter-widgets/base",
       "_view_module_version": "1.2.0",
       "_view_name": "LayoutView",
       "align_content": null,
       "align_items": null,
       "align_self": null,
       "border": null,
       "bottom": null,
       "display": null,
       "flex": null,
       "flex_flow": null,
       "grid_area": null,
       "grid_auto_columns": null,
       "grid_auto_flow": null,
       "grid_auto_rows": null,
       "grid_column": null,
       "grid_gap": null,
       "grid_row": null,
       "grid_template_areas": null,
       "grid_template_columns": null,
       "grid_template_rows": null,
       "height": null,
       "justify_content": null,
       "justify_items": null,
       "left": null,
       "margin": null,
       "max_height": null,
       "max_width": null,
       "min_height": null,
       "min_width": null,
       "object_fit": null,
       "object_position": null,
       "order": null,
       "overflow": null,
       "overflow_x": null,
       "overflow_y": null,
       "padding": null,
       "right": null,
       "top": null,
       "visibility": null,
       "width": null
      }
     },
     "32297ea0744641959db47d1b06103fab": {
      "model_module": "@jupyter-widgets/base",
      "model_module_version": "1.2.0",
      "model_name": "LayoutModel",
      "state": {
       "_model_module": "@jupyter-widgets/base",
       "_model_module_version": "1.2.0",
       "_model_name": "LayoutModel",
       "_view_count": null,
       "_view_module": "@jupyter-widgets/base",
       "_view_module_version": "1.2.0",
       "_view_name": "LayoutView",
       "align_content": null,
       "align_items": null,
       "align_self": null,
       "border": null,
       "bottom": null,
       "display": null,
       "flex": null,
       "flex_flow": null,
       "grid_area": null,
       "grid_auto_columns": null,
       "grid_auto_flow": null,
       "grid_auto_rows": null,
       "grid_column": null,
       "grid_gap": null,
       "grid_row": null,
       "grid_template_areas": null,
       "grid_template_columns": null,
       "grid_template_rows": null,
       "height": null,
       "justify_content": null,
       "justify_items": null,
       "left": null,
       "margin": null,
       "max_height": null,
       "max_width": null,
       "min_height": null,
       "min_width": null,
       "object_fit": null,
       "object_position": null,
       "order": null,
       "overflow": null,
       "overflow_x": null,
       "overflow_y": null,
       "padding": null,
       "right": null,
       "top": null,
       "visibility": null,
       "width": null
      }
     },
     "3597f85d4f8f4bf1a264cea9492e5b18": {
      "model_module": "@jupyter-widgets/base",
      "model_module_version": "1.2.0",
      "model_name": "LayoutModel",
      "state": {
       "_model_module": "@jupyter-widgets/base",
       "_model_module_version": "1.2.0",
       "_model_name": "LayoutModel",
       "_view_count": null,
       "_view_module": "@jupyter-widgets/base",
       "_view_module_version": "1.2.0",
       "_view_name": "LayoutView",
       "align_content": null,
       "align_items": null,
       "align_self": null,
       "border": null,
       "bottom": null,
       "display": null,
       "flex": null,
       "flex_flow": null,
       "grid_area": null,
       "grid_auto_columns": null,
       "grid_auto_flow": null,
       "grid_auto_rows": null,
       "grid_column": null,
       "grid_gap": null,
       "grid_row": null,
       "grid_template_areas": null,
       "grid_template_columns": null,
       "grid_template_rows": null,
       "height": null,
       "justify_content": null,
       "justify_items": null,
       "left": null,
       "margin": null,
       "max_height": null,
       "max_width": null,
       "min_height": null,
       "min_width": null,
       "object_fit": null,
       "object_position": null,
       "order": null,
       "overflow": null,
       "overflow_x": null,
       "overflow_y": null,
       "padding": null,
       "right": null,
       "top": null,
       "visibility": null,
       "width": null
      }
     },
     "3baf9bb2a785472798e705e68e0994e4": {
      "model_module": "@jupyter-widgets/base",
      "model_module_version": "1.2.0",
      "model_name": "LayoutModel",
      "state": {
       "_model_module": "@jupyter-widgets/base",
       "_model_module_version": "1.2.0",
       "_model_name": "LayoutModel",
       "_view_count": null,
       "_view_module": "@jupyter-widgets/base",
       "_view_module_version": "1.2.0",
       "_view_name": "LayoutView",
       "align_content": null,
       "align_items": null,
       "align_self": null,
       "border": null,
       "bottom": null,
       "display": null,
       "flex": null,
       "flex_flow": null,
       "grid_area": null,
       "grid_auto_columns": null,
       "grid_auto_flow": null,
       "grid_auto_rows": null,
       "grid_column": null,
       "grid_gap": null,
       "grid_row": null,
       "grid_template_areas": null,
       "grid_template_columns": null,
       "grid_template_rows": null,
       "height": null,
       "justify_content": null,
       "justify_items": null,
       "left": null,
       "margin": null,
       "max_height": null,
       "max_width": null,
       "min_height": null,
       "min_width": null,
       "object_fit": null,
       "object_position": null,
       "order": null,
       "overflow": null,
       "overflow_x": null,
       "overflow_y": null,
       "padding": null,
       "right": null,
       "top": null,
       "visibility": null,
       "width": null
      }
     },
     "4338abcbf74b4c90929a076b561f575d": {
      "model_module": "@jupyter-widgets/base",
      "model_module_version": "1.2.0",
      "model_name": "LayoutModel",
      "state": {
       "_model_module": "@jupyter-widgets/base",
       "_model_module_version": "1.2.0",
       "_model_name": "LayoutModel",
       "_view_count": null,
       "_view_module": "@jupyter-widgets/base",
       "_view_module_version": "1.2.0",
       "_view_name": "LayoutView",
       "align_content": null,
       "align_items": null,
       "align_self": null,
       "border": null,
       "bottom": null,
       "display": null,
       "flex": null,
       "flex_flow": null,
       "grid_area": null,
       "grid_auto_columns": null,
       "grid_auto_flow": null,
       "grid_auto_rows": null,
       "grid_column": null,
       "grid_gap": null,
       "grid_row": null,
       "grid_template_areas": null,
       "grid_template_columns": null,
       "grid_template_rows": null,
       "height": null,
       "justify_content": null,
       "justify_items": null,
       "left": null,
       "margin": null,
       "max_height": null,
       "max_width": null,
       "min_height": null,
       "min_width": null,
       "object_fit": null,
       "object_position": null,
       "order": null,
       "overflow": null,
       "overflow_x": null,
       "overflow_y": null,
       "padding": null,
       "right": null,
       "top": null,
       "visibility": null,
       "width": null
      }
     },
     "43407a4c82d541df805e2e9f60ab1b62": {
      "model_module": "@jupyter-widgets/base",
      "model_module_version": "1.2.0",
      "model_name": "LayoutModel",
      "state": {
       "_model_module": "@jupyter-widgets/base",
       "_model_module_version": "1.2.0",
       "_model_name": "LayoutModel",
       "_view_count": null,
       "_view_module": "@jupyter-widgets/base",
       "_view_module_version": "1.2.0",
       "_view_name": "LayoutView",
       "align_content": null,
       "align_items": null,
       "align_self": null,
       "border": null,
       "bottom": null,
       "display": null,
       "flex": null,
       "flex_flow": null,
       "grid_area": null,
       "grid_auto_columns": null,
       "grid_auto_flow": null,
       "grid_auto_rows": null,
       "grid_column": null,
       "grid_gap": null,
       "grid_row": null,
       "grid_template_areas": null,
       "grid_template_columns": null,
       "grid_template_rows": null,
       "height": null,
       "justify_content": null,
       "justify_items": null,
       "left": null,
       "margin": null,
       "max_height": null,
       "max_width": null,
       "min_height": null,
       "min_width": null,
       "object_fit": null,
       "object_position": null,
       "order": null,
       "overflow": null,
       "overflow_x": null,
       "overflow_y": null,
       "padding": null,
       "right": null,
       "top": null,
       "visibility": null,
       "width": null
      }
     },
     "50b1159aedeb44b4b79611afcc1f03c1": {
      "model_module": "@jupyter-widgets/controls",
      "model_module_version": "1.5.0",
      "model_name": "HBoxModel",
      "state": {
       "_dom_classes": [],
       "_model_module": "@jupyter-widgets/controls",
       "_model_module_version": "1.5.0",
       "_model_name": "HBoxModel",
       "_view_count": null,
       "_view_module": "@jupyter-widgets/controls",
       "_view_module_version": "1.5.0",
       "_view_name": "HBoxView",
       "box_style": "",
       "children": [
        "IPY_MODEL_d5ed292d57fb44569a616614c5e596bd",
        "IPY_MODEL_bc8d4da4b3834a0588fe799dc9382b31",
        "IPY_MODEL_f976c62e919042f7bf8db32c24cc6c73"
       ],
       "layout": "IPY_MODEL_3baf9bb2a785472798e705e68e0994e4"
      }
     },
     "54d35d6e99e44d43bdc34f7ac5d87b7f": {
      "model_module": "@jupyter-widgets/controls",
      "model_module_version": "1.5.0",
      "model_name": "ProgressStyleModel",
      "state": {
       "_model_module": "@jupyter-widgets/controls",
       "_model_module_version": "1.5.0",
       "_model_name": "ProgressStyleModel",
       "_view_count": null,
       "_view_module": "@jupyter-widgets/base",
       "_view_module_version": "1.2.0",
       "_view_name": "StyleView",
       "bar_color": null,
       "description_width": ""
      }
     },
     "5a5a346214474c4d96ea8b3e7fbde5f2": {
      "model_module": "@jupyter-widgets/controls",
      "model_module_version": "1.5.0",
      "model_name": "HTMLModel",
      "state": {
       "_dom_classes": [],
       "_model_module": "@jupyter-widgets/controls",
       "_model_module_version": "1.5.0",
       "_model_name": "HTMLModel",
       "_view_count": null,
       "_view_module": "@jupyter-widgets/controls",
       "_view_module_version": "1.5.0",
       "_view_name": "HTMLView",
       "description": "",
       "description_tooltip": null,
       "layout": "IPY_MODEL_fd6426e785e1491299882660aa5434ab",
       "placeholder": "​",
       "style": "IPY_MODEL_6ad0a55d60d341ba966abae94771304f",
       "value": " 570/570 [00:00&lt;00:00, 32.8kB/s]"
      }
     },
     "5fefb21e6652471f8dce6b80741c7d90": {
      "model_module": "@jupyter-widgets/base",
      "model_module_version": "1.2.0",
      "model_name": "LayoutModel",
      "state": {
       "_model_module": "@jupyter-widgets/base",
       "_model_module_version": "1.2.0",
       "_model_name": "LayoutModel",
       "_view_count": null,
       "_view_module": "@jupyter-widgets/base",
       "_view_module_version": "1.2.0",
       "_view_name": "LayoutView",
       "align_content": null,
       "align_items": null,
       "align_self": null,
       "border": null,
       "bottom": null,
       "display": null,
       "flex": null,
       "flex_flow": null,
       "grid_area": null,
       "grid_auto_columns": null,
       "grid_auto_flow": null,
       "grid_auto_rows": null,
       "grid_column": null,
       "grid_gap": null,
       "grid_row": null,
       "grid_template_areas": null,
       "grid_template_columns": null,
       "grid_template_rows": null,
       "height": null,
       "justify_content": null,
       "justify_items": null,
       "left": null,
       "margin": null,
       "max_height": null,
       "max_width": null,
       "min_height": null,
       "min_width": null,
       "object_fit": null,
       "object_position": null,
       "order": null,
       "overflow": null,
       "overflow_x": null,
       "overflow_y": null,
       "padding": null,
       "right": null,
       "top": null,
       "visibility": null,
       "width": null
      }
     },
     "69288fe5467f4e07935f0392442004a0": {
      "model_module": "@jupyter-widgets/controls",
      "model_module_version": "1.5.0",
      "model_name": "HBoxModel",
      "state": {
       "_dom_classes": [],
       "_model_module": "@jupyter-widgets/controls",
       "_model_module_version": "1.5.0",
       "_model_name": "HBoxModel",
       "_view_count": null,
       "_view_module": "@jupyter-widgets/controls",
       "_view_module_version": "1.5.0",
       "_view_name": "HBoxView",
       "box_style": "",
       "children": [
        "IPY_MODEL_7114a6b2d4514a9389646769fe7ea031",
        "IPY_MODEL_2adf2556eb114658b9db1d9933f35c34",
        "IPY_MODEL_5a5a346214474c4d96ea8b3e7fbde5f2"
       ],
       "layout": "IPY_MODEL_db41c682a4404b31a41070b97cbbf263"
      }
     },
     "6ad0a55d60d341ba966abae94771304f": {
      "model_module": "@jupyter-widgets/controls",
      "model_module_version": "1.5.0",
      "model_name": "DescriptionStyleModel",
      "state": {
       "_model_module": "@jupyter-widgets/controls",
       "_model_module_version": "1.5.0",
       "_model_name": "DescriptionStyleModel",
       "_view_count": null,
       "_view_module": "@jupyter-widgets/base",
       "_view_module_version": "1.2.0",
       "_view_name": "StyleView",
       "description_width": ""
      }
     },
     "7114a6b2d4514a9389646769fe7ea031": {
      "model_module": "@jupyter-widgets/controls",
      "model_module_version": "1.5.0",
      "model_name": "HTMLModel",
      "state": {
       "_dom_classes": [],
       "_model_module": "@jupyter-widgets/controls",
       "_model_module_version": "1.5.0",
       "_model_name": "HTMLModel",
       "_view_count": null,
       "_view_module": "@jupyter-widgets/controls",
       "_view_module_version": "1.5.0",
       "_view_name": "HTMLView",
       "description": "",
       "description_tooltip": null,
       "layout": "IPY_MODEL_b9f87f6c9e5f4a968ac3d3a9df28cf2e",
       "placeholder": "​",
       "style": "IPY_MODEL_0997905681d34eefbff82963b2ae40f4",
       "value": "Downloading (…)lve/main/config.json: 100%"
      }
     },
     "7995f7cf37c8469d9491627e9335a72e": {
      "model_module": "@jupyter-widgets/controls",
      "model_module_version": "1.5.0",
      "model_name": "ProgressStyleModel",
      "state": {
       "_model_module": "@jupyter-widgets/controls",
       "_model_module_version": "1.5.0",
       "_model_name": "ProgressStyleModel",
       "_view_count": null,
       "_view_module": "@jupyter-widgets/base",
       "_view_module_version": "1.2.0",
       "_view_name": "StyleView",
       "bar_color": null,
       "description_width": ""
      }
     },
     "7f3945fedcbd4bfdb9a2b0e46488c9c4": {
      "model_module": "@jupyter-widgets/controls",
      "model_module_version": "1.5.0",
      "model_name": "FloatProgressModel",
      "state": {
       "_dom_classes": [],
       "_model_module": "@jupyter-widgets/controls",
       "_model_module_version": "1.5.0",
       "_model_name": "FloatProgressModel",
       "_view_count": null,
       "_view_module": "@jupyter-widgets/controls",
       "_view_module_version": "1.5.0",
       "_view_name": "ProgressView",
       "bar_style": "success",
       "description": "",
       "description_tooltip": null,
       "layout": "IPY_MODEL_c41a45f1eb3c49929628f1fbf4173300",
       "max": 10.0,
       "min": 0.0,
       "orientation": "horizontal",
       "style": "IPY_MODEL_174a7bfc2a36499ca43b6537b63d73ba",
       "value": 10.0
      }
     },
     "9444750cdc9a428e912e820230817c4c": {
      "model_module": "@jupyter-widgets/base",
      "model_module_version": "1.2.0",
      "model_name": "LayoutModel",
      "state": {
       "_model_module": "@jupyter-widgets/base",
       "_model_module_version": "1.2.0",
       "_model_name": "LayoutModel",
       "_view_count": null,
       "_view_module": "@jupyter-widgets/base",
       "_view_module_version": "1.2.0",
       "_view_name": "LayoutView",
       "align_content": null,
       "align_items": null,
       "align_self": null,
       "border": null,
       "bottom": null,
       "display": null,
       "flex": null,
       "flex_flow": null,
       "grid_area": null,
       "grid_auto_columns": null,
       "grid_auto_flow": null,
       "grid_auto_rows": null,
       "grid_column": null,
       "grid_gap": null,
       "grid_row": null,
       "grid_template_areas": null,
       "grid_template_columns": null,
       "grid_template_rows": null,
       "height": null,
       "justify_content": null,
       "justify_items": null,
       "left": null,
       "margin": null,
       "max_height": null,
       "max_width": null,
       "min_height": null,
       "min_width": null,
       "object_fit": null,
       "object_position": null,
       "order": null,
       "overflow": null,
       "overflow_x": null,
       "overflow_y": null,
       "padding": null,
       "right": null,
       "top": null,
       "visibility": null,
       "width": null
      }
     },
     "986e9c3a6ba74bcebda18ef9e0b1230a": {
      "model_module": "@jupyter-widgets/controls",
      "model_module_version": "1.5.0",
      "model_name": "HTMLModel",
      "state": {
       "_dom_classes": [],
       "_model_module": "@jupyter-widgets/controls",
       "_model_module_version": "1.5.0",
       "_model_name": "HTMLModel",
       "_view_count": null,
       "_view_module": "@jupyter-widgets/controls",
       "_view_module_version": "1.5.0",
       "_view_name": "HTMLView",
       "description": "",
       "description_tooltip": null,
       "layout": "IPY_MODEL_4338abcbf74b4c90929a076b561f575d",
       "placeholder": "​",
       "style": "IPY_MODEL_1d3dee98ef4c48648e185be67507a16c",
       "value": " 10/10 [00:41&lt;00:00,  3.98s/it]"
      }
     },
     "a90d0e8caf0d4e7c9b27e38056c06342": {
      "model_module": "@jupyter-widgets/controls",
      "model_module_version": "1.5.0",
      "model_name": "HBoxModel",
      "state": {
       "_dom_classes": [],
       "_model_module": "@jupyter-widgets/controls",
       "_model_module_version": "1.5.0",
       "_model_name": "HBoxModel",
       "_view_count": null,
       "_view_module": "@jupyter-widgets/controls",
       "_view_module_version": "1.5.0",
       "_view_name": "HBoxView",
       "box_style": "",
       "children": [
        "IPY_MODEL_fe7815fb5cf84675a5d8e7e255928073",
        "IPY_MODEL_7f3945fedcbd4bfdb9a2b0e46488c9c4",
        "IPY_MODEL_986e9c3a6ba74bcebda18ef9e0b1230a"
       ],
       "layout": "IPY_MODEL_32297ea0744641959db47d1b06103fab"
      }
     },
     "b547005353eb45c7937a6768923e31e3": {
      "model_module": "@jupyter-widgets/base",
      "model_module_version": "1.2.0",
      "model_name": "LayoutModel",
      "state": {
       "_model_module": "@jupyter-widgets/base",
       "_model_module_version": "1.2.0",
       "_model_name": "LayoutModel",
       "_view_count": null,
       "_view_module": "@jupyter-widgets/base",
       "_view_module_version": "1.2.0",
       "_view_name": "LayoutView",
       "align_content": null,
       "align_items": null,
       "align_self": null,
       "border": null,
       "bottom": null,
       "display": null,
       "flex": null,
       "flex_flow": null,
       "grid_area": null,
       "grid_auto_columns": null,
       "grid_auto_flow": null,
       "grid_auto_rows": null,
       "grid_column": null,
       "grid_gap": null,
       "grid_row": null,
       "grid_template_areas": null,
       "grid_template_columns": null,
       "grid_template_rows": null,
       "height": null,
       "justify_content": null,
       "justify_items": null,
       "left": null,
       "margin": null,
       "max_height": null,
       "max_width": null,
       "min_height": null,
       "min_width": null,
       "object_fit": null,
       "object_position": null,
       "order": null,
       "overflow": null,
       "overflow_x": null,
       "overflow_y": null,
       "padding": null,
       "right": null,
       "top": null,
       "visibility": null,
       "width": null
      }
     },
     "b9f87f6c9e5f4a968ac3d3a9df28cf2e": {
      "model_module": "@jupyter-widgets/base",
      "model_module_version": "1.2.0",
      "model_name": "LayoutModel",
      "state": {
       "_model_module": "@jupyter-widgets/base",
       "_model_module_version": "1.2.0",
       "_model_name": "LayoutModel",
       "_view_count": null,
       "_view_module": "@jupyter-widgets/base",
       "_view_module_version": "1.2.0",
       "_view_name": "LayoutView",
       "align_content": null,
       "align_items": null,
       "align_self": null,
       "border": null,
       "bottom": null,
       "display": null,
       "flex": null,
       "flex_flow": null,
       "grid_area": null,
       "grid_auto_columns": null,
       "grid_auto_flow": null,
       "grid_auto_rows": null,
       "grid_column": null,
       "grid_gap": null,
       "grid_row": null,
       "grid_template_areas": null,
       "grid_template_columns": null,
       "grid_template_rows": null,
       "height": null,
       "justify_content": null,
       "justify_items": null,
       "left": null,
       "margin": null,
       "max_height": null,
       "max_width": null,
       "min_height": null,
       "min_width": null,
       "object_fit": null,
       "object_position": null,
       "order": null,
       "overflow": null,
       "overflow_x": null,
       "overflow_y": null,
       "padding": null,
       "right": null,
       "top": null,
       "visibility": null,
       "width": null
      }
     },
     "bc8d4da4b3834a0588fe799dc9382b31": {
      "model_module": "@jupyter-widgets/controls",
      "model_module_version": "1.5.0",
      "model_name": "FloatProgressModel",
      "state": {
       "_dom_classes": [],
       "_model_module": "@jupyter-widgets/controls",
       "_model_module_version": "1.5.0",
       "_model_name": "FloatProgressModel",
       "_view_count": null,
       "_view_module": "@jupyter-widgets/controls",
       "_view_module_version": "1.5.0",
       "_view_name": "ProgressView",
       "bar_style": "success",
       "description": "",
       "description_tooltip": null,
       "layout": "IPY_MODEL_9444750cdc9a428e912e820230817c4c",
       "max": 28.0,
       "min": 0.0,
       "orientation": "horizontal",
       "style": "IPY_MODEL_7995f7cf37c8469d9491627e9335a72e",
       "value": 28.0
      }
     },
     "c12ab95e5a03400296b930a5f069065a": {
      "model_module": "@jupyter-widgets/controls",
      "model_module_version": "1.5.0",
      "model_name": "DescriptionStyleModel",
      "state": {
       "_model_module": "@jupyter-widgets/controls",
       "_model_module_version": "1.5.0",
       "_model_name": "DescriptionStyleModel",
       "_view_count": null,
       "_view_module": "@jupyter-widgets/base",
       "_view_module_version": "1.2.0",
       "_view_name": "StyleView",
       "description_width": ""
      }
     },
     "c41a45f1eb3c49929628f1fbf4173300": {
      "model_module": "@jupyter-widgets/base",
      "model_module_version": "1.2.0",
      "model_name": "LayoutModel",
      "state": {
       "_model_module": "@jupyter-widgets/base",
       "_model_module_version": "1.2.0",
       "_model_name": "LayoutModel",
       "_view_count": null,
       "_view_module": "@jupyter-widgets/base",
       "_view_module_version": "1.2.0",
       "_view_name": "LayoutView",
       "align_content": null,
       "align_items": null,
       "align_self": null,
       "border": null,
       "bottom": null,
       "display": null,
       "flex": null,
       "flex_flow": null,
       "grid_area": null,
       "grid_auto_columns": null,
       "grid_auto_flow": null,
       "grid_auto_rows": null,
       "grid_column": null,
       "grid_gap": null,
       "grid_row": null,
       "grid_template_areas": null,
       "grid_template_columns": null,
       "grid_template_rows": null,
       "height": null,
       "justify_content": null,
       "justify_items": null,
       "left": null,
       "margin": null,
       "max_height": null,
       "max_width": null,
       "min_height": null,
       "min_width": null,
       "object_fit": null,
       "object_position": null,
       "order": null,
       "overflow": null,
       "overflow_x": null,
       "overflow_y": null,
       "padding": null,
       "right": null,
       "top": null,
       "visibility": null,
       "width": null
      }
     },
     "c50b114b6efc47fea23ab7eb7aebd1e1": {
      "model_module": "@jupyter-widgets/controls",
      "model_module_version": "1.5.0",
      "model_name": "HTMLModel",
      "state": {
       "_dom_classes": [],
       "_model_module": "@jupyter-widgets/controls",
       "_model_module_version": "1.5.0",
       "_model_name": "HTMLModel",
       "_view_count": null,
       "_view_module": "@jupyter-widgets/controls",
       "_view_module_version": "1.5.0",
       "_view_name": "HTMLView",
       "description": "",
       "description_tooltip": null,
       "layout": "IPY_MODEL_43407a4c82d541df805e2e9f60ab1b62",
       "placeholder": "​",
       "style": "IPY_MODEL_d036979f39ea46c086f157438ce507c8",
       "value": " 232k/232k [00:00&lt;00:00, 1.82MB/s]"
      }
     },
     "c8d55182d44d4783bb05fc06e42f9eb5": {
      "model_module": "@jupyter-widgets/controls",
      "model_module_version": "1.5.0",
      "model_name": "DescriptionStyleModel",
      "state": {
       "_model_module": "@jupyter-widgets/controls",
       "_model_module_version": "1.5.0",
       "_model_name": "DescriptionStyleModel",
       "_view_count": null,
       "_view_module": "@jupyter-widgets/base",
       "_view_module_version": "1.2.0",
       "_view_name": "StyleView",
       "description_width": ""
      }
     },
     "d036979f39ea46c086f157438ce507c8": {
      "model_module": "@jupyter-widgets/controls",
      "model_module_version": "1.5.0",
      "model_name": "DescriptionStyleModel",
      "state": {
       "_model_module": "@jupyter-widgets/controls",
       "_model_module_version": "1.5.0",
       "_model_name": "DescriptionStyleModel",
       "_view_count": null,
       "_view_module": "@jupyter-widgets/base",
       "_view_module_version": "1.2.0",
       "_view_name": "StyleView",
       "description_width": ""
      }
     },
     "d5ed292d57fb44569a616614c5e596bd": {
      "model_module": "@jupyter-widgets/controls",
      "model_module_version": "1.5.0",
      "model_name": "HTMLModel",
      "state": {
       "_dom_classes": [],
       "_model_module": "@jupyter-widgets/controls",
       "_model_module_version": "1.5.0",
       "_model_name": "HTMLModel",
       "_view_count": null,
       "_view_module": "@jupyter-widgets/controls",
       "_view_module_version": "1.5.0",
       "_view_name": "HTMLView",
       "description": "",
       "description_tooltip": null,
       "layout": "IPY_MODEL_3597f85d4f8f4bf1a264cea9492e5b18",
       "placeholder": "​",
       "style": "IPY_MODEL_0a9a2a3748f94888b06ff3ccc7ee7a1b",
       "value": "Downloading (…)okenizer_config.json: 100%"
      }
     },
     "d81d152757464ed8b1ec3400b6c82f07": {
      "model_module": "@jupyter-widgets/base",
      "model_module_version": "1.2.0",
      "model_name": "LayoutModel",
      "state": {
       "_model_module": "@jupyter-widgets/base",
       "_model_module_version": "1.2.0",
       "_model_name": "LayoutModel",
       "_view_count": null,
       "_view_module": "@jupyter-widgets/base",
       "_view_module_version": "1.2.0",
       "_view_name": "LayoutView",
       "align_content": null,
       "align_items": null,
       "align_self": null,
       "border": null,
       "bottom": null,
       "display": null,
       "flex": null,
       "flex_flow": null,
       "grid_area": null,
       "grid_auto_columns": null,
       "grid_auto_flow": null,
       "grid_auto_rows": null,
       "grid_column": null,
       "grid_gap": null,
       "grid_row": null,
       "grid_template_areas": null,
       "grid_template_columns": null,
       "grid_template_rows": null,
       "height": null,
       "justify_content": null,
       "justify_items": null,
       "left": null,
       "margin": null,
       "max_height": null,
       "max_width": null,
       "min_height": null,
       "min_width": null,
       "object_fit": null,
       "object_position": null,
       "order": null,
       "overflow": null,
       "overflow_x": null,
       "overflow_y": null,
       "padding": null,
       "right": null,
       "top": null,
       "visibility": null,
       "width": null
      }
     },
     "d8f1e1fac05b4915ace1dc523bd149bf": {
      "model_module": "@jupyter-widgets/controls",
      "model_module_version": "1.5.0",
      "model_name": "HBoxModel",
      "state": {
       "_dom_classes": [],
       "_model_module": "@jupyter-widgets/controls",
       "_model_module_version": "1.5.0",
       "_model_name": "HBoxModel",
       "_view_count": null,
       "_view_module": "@jupyter-widgets/controls",
       "_view_module_version": "1.5.0",
       "_view_name": "HBoxView",
       "box_style": "",
       "children": [
        "IPY_MODEL_f90732a75634482da3f5af9c38610448",
        "IPY_MODEL_e063a12832ae4e0187087b5ef1e7190c",
        "IPY_MODEL_c50b114b6efc47fea23ab7eb7aebd1e1"
       ],
       "layout": "IPY_MODEL_29ba0ee01461492ebafa235ac34227e9"
      }
     },
     "db41c682a4404b31a41070b97cbbf263": {
      "model_module": "@jupyter-widgets/base",
      "model_module_version": "1.2.0",
      "model_name": "LayoutModel",
      "state": {
       "_model_module": "@jupyter-widgets/base",
       "_model_module_version": "1.2.0",
       "_model_name": "LayoutModel",
       "_view_count": null,
       "_view_module": "@jupyter-widgets/base",
       "_view_module_version": "1.2.0",
       "_view_name": "LayoutView",
       "align_content": null,
       "align_items": null,
       "align_self": null,
       "border": null,
       "bottom": null,
       "display": null,
       "flex": null,
       "flex_flow": null,
       "grid_area": null,
       "grid_auto_columns": null,
       "grid_auto_flow": null,
       "grid_auto_rows": null,
       "grid_column": null,
       "grid_gap": null,
       "grid_row": null,
       "grid_template_areas": null,
       "grid_template_columns": null,
       "grid_template_rows": null,
       "height": null,
       "justify_content": null,
       "justify_items": null,
       "left": null,
       "margin": null,
       "max_height": null,
       "max_width": null,
       "min_height": null,
       "min_width": null,
       "object_fit": null,
       "object_position": null,
       "order": null,
       "overflow": null,
       "overflow_x": null,
       "overflow_y": null,
       "padding": null,
       "right": null,
       "top": null,
       "visibility": null,
       "width": null
      }
     },
     "e04b61db72a5467ab39ac203fb049419": {
      "model_module": "@jupyter-widgets/controls",
      "model_module_version": "1.5.0",
      "model_name": "ProgressStyleModel",
      "state": {
       "_model_module": "@jupyter-widgets/controls",
       "_model_module_version": "1.5.0",
       "_model_name": "ProgressStyleModel",
       "_view_count": null,
       "_view_module": "@jupyter-widgets/base",
       "_view_module_version": "1.2.0",
       "_view_name": "StyleView",
       "bar_color": null,
       "description_width": ""
      }
     },
     "e063a12832ae4e0187087b5ef1e7190c": {
      "model_module": "@jupyter-widgets/controls",
      "model_module_version": "1.5.0",
      "model_name": "FloatProgressModel",
      "state": {
       "_dom_classes": [],
       "_model_module": "@jupyter-widgets/controls",
       "_model_module_version": "1.5.0",
       "_model_name": "FloatProgressModel",
       "_view_count": null,
       "_view_module": "@jupyter-widgets/controls",
       "_view_module_version": "1.5.0",
       "_view_name": "ProgressView",
       "bar_style": "success",
       "description": "",
       "description_tooltip": null,
       "layout": "IPY_MODEL_d81d152757464ed8b1ec3400b6c82f07",
       "max": 231508.0,
       "min": 0.0,
       "orientation": "horizontal",
       "style": "IPY_MODEL_54d35d6e99e44d43bdc34f7ac5d87b7f",
       "value": 231508.0
      }
     },
     "f90732a75634482da3f5af9c38610448": {
      "model_module": "@jupyter-widgets/controls",
      "model_module_version": "1.5.0",
      "model_name": "HTMLModel",
      "state": {
       "_dom_classes": [],
       "_model_module": "@jupyter-widgets/controls",
       "_model_module_version": "1.5.0",
       "_model_name": "HTMLModel",
       "_view_count": null,
       "_view_module": "@jupyter-widgets/controls",
       "_view_module_version": "1.5.0",
       "_view_name": "HTMLView",
       "description": "",
       "description_tooltip": null,
       "layout": "IPY_MODEL_5fefb21e6652471f8dce6b80741c7d90",
       "placeholder": "​",
       "style": "IPY_MODEL_29e26e7c7dab4f299c97bc5682259c9e",
       "value": "Downloading (…)solve/main/vocab.txt: 100%"
      }
     },
     "f976c62e919042f7bf8db32c24cc6c73": {
      "model_module": "@jupyter-widgets/controls",
      "model_module_version": "1.5.0",
      "model_name": "HTMLModel",
      "state": {
       "_dom_classes": [],
       "_model_module": "@jupyter-widgets/controls",
       "_model_module_version": "1.5.0",
       "_model_name": "HTMLModel",
       "_view_count": null,
       "_view_module": "@jupyter-widgets/controls",
       "_view_module_version": "1.5.0",
       "_view_name": "HTMLView",
       "description": "",
       "description_tooltip": null,
       "layout": "IPY_MODEL_1b4faac7bfe843589ba5fffb93f589a4",
       "placeholder": "​",
       "style": "IPY_MODEL_c8d55182d44d4783bb05fc06e42f9eb5",
       "value": " 28.0/28.0 [00:00&lt;00:00, 1.54kB/s]"
      }
     },
     "fd6426e785e1491299882660aa5434ab": {
      "model_module": "@jupyter-widgets/base",
      "model_module_version": "1.2.0",
      "model_name": "LayoutModel",
      "state": {
       "_model_module": "@jupyter-widgets/base",
       "_model_module_version": "1.2.0",
       "_model_name": "LayoutModel",
       "_view_count": null,
       "_view_module": "@jupyter-widgets/base",
       "_view_module_version": "1.2.0",
       "_view_name": "LayoutView",
       "align_content": null,
       "align_items": null,
       "align_self": null,
       "border": null,
       "bottom": null,
       "display": null,
       "flex": null,
       "flex_flow": null,
       "grid_area": null,
       "grid_auto_columns": null,
       "grid_auto_flow": null,
       "grid_auto_rows": null,
       "grid_column": null,
       "grid_gap": null,
       "grid_row": null,
       "grid_template_areas": null,
       "grid_template_columns": null,
       "grid_template_rows": null,
       "height": null,
       "justify_content": null,
       "justify_items": null,
       "left": null,
       "margin": null,
       "max_height": null,
       "max_width": null,
       "min_height": null,
       "min_width": null,
       "object_fit": null,
       "object_position": null,
       "order": null,
       "overflow": null,
       "overflow_x": null,
       "overflow_y": null,
       "padding": null,
       "right": null,
       "top": null,
       "visibility": null,
       "width": null
      }
     },
     "fe7815fb5cf84675a5d8e7e255928073": {
      "model_module": "@jupyter-widgets/controls",
      "model_module_version": "1.5.0",
      "model_name": "HTMLModel",
      "state": {
       "_dom_classes": [],
       "_model_module": "@jupyter-widgets/controls",
       "_model_module_version": "1.5.0",
       "_model_name": "HTMLModel",
       "_view_count": null,
       "_view_module": "@jupyter-widgets/controls",
       "_view_module_version": "1.5.0",
       "_view_name": "HTMLView",
       "description": "",
       "description_tooltip": null,
       "layout": "IPY_MODEL_31868bd09f104e0ea81912ffdd38c010",
       "placeholder": "​",
       "style": "IPY_MODEL_c12ab95e5a03400296b930a5f069065a",
       "value": "100%"
      }
     }
    },
    "version_major": 2,
    "version_minor": 0
   }
  }
 },
 "nbformat": 4,
 "nbformat_minor": 5
}
