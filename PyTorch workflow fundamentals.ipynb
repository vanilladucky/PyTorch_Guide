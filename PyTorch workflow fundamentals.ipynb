{
 "cells": [
  {
   "cell_type": "markdown",
   "metadata": {},
   "source": [
    "# Table of Contents\n",
    "\n",
    "# 1. Introduction\n",
    "* Introduction\n",
    "\n",
    "* Importing necessary libraries\n",
    "\n",
    "# 2. Data\n",
    "\n",
    "* Data creation\n",
    "\n",
    "* Data splitting\n",
    "\n",
    "# 3. Model\n",
    "\n",
    "* PyTorch model buildng essentials\n",
    "\n",
    "* Checking contents of PyTorch model\n",
    "\n",
    "* Making predictions\n",
    "\n",
    "# 4. Train Model\n",
    "\n",
    "* Loss Function & Optimizer\n",
    "\n",
    "* Optimization Loop\n",
    "\n",
    "* Making Predictions\n",
    "\n",
    "# 5. Saving and Loading a PyTorch Model"
   ]
  },
  {
   "cell_type": "markdown",
   "metadata": {},
   "source": [
    "# Introduction"
   ]
  },
  {
   "cell_type": "markdown",
   "metadata": {},
   "source": [
    "##### The essence of machine learning and deep learning is to take some data from the past, make an algorithm to discover a pattern and numerical figures that give us the most optimal results.\n",
    "##### In thie notebook, we will be covering this workflow.\n",
    "1) Getting data ready\n",
    "2) Building a model \n",
    "3) Fitting the model to the data (training)\n",
    "4) Making predictions and evaluating a model "
   ]
  },
  {
   "cell_type": "markdown",
   "metadata": {},
   "source": [
    "## Importing necessary libraries"
   ]
  },
  {
   "cell_type": "code",
   "execution_count": 96,
   "metadata": {},
   "outputs": [],
   "source": [
    "import torch \n",
    "from torch import nn \n",
    "import matplotlib.pyplot as plt"
   ]
  },
  {
   "cell_type": "markdown",
   "metadata": {},
   "source": [
    "# Data"
   ]
  },
  {
   "cell_type": "markdown",
   "metadata": {},
   "source": [
    "##### For the task of machine learning, data can be in any format, be it images, audio files or speeches.\n",
    "##### The user then has to be able to turn this data into numerical figures (a representation).\n",
    "##### This will help the model understand the input data.\n",
    "##### For thie notebook, we would just create data as a straight line.\n",
    "##### We will obtain these data using linear regression and check if PyTorch is able to estimate the regression parameteres using gradient descent."
   ]
  },
  {
   "cell_type": "markdown",
   "metadata": {},
   "source": [
    "## Data creation"
   ]
  },
  {
   "cell_type": "code",
   "execution_count": 97,
   "metadata": {},
   "outputs": [
    {
     "data": {
      "text/plain": [
       "(tensor([[0.0000],\n",
       "         [0.0200],\n",
       "         [0.0400],\n",
       "         [0.0600],\n",
       "         [0.0800],\n",
       "         [0.1000],\n",
       "         [0.1200],\n",
       "         [0.1400],\n",
       "         [0.1600],\n",
       "         [0.1800]]),\n",
       " tensor([[0.3000],\n",
       "         [0.3140],\n",
       "         [0.3280],\n",
       "         [0.3420],\n",
       "         [0.3560],\n",
       "         [0.3700],\n",
       "         [0.3840],\n",
       "         [0.3980],\n",
       "         [0.4120],\n",
       "         [0.4260]]))"
      ]
     },
     "execution_count": 97,
     "metadata": {},
     "output_type": "execute_result"
    }
   ],
   "source": [
    "# Create *known* parameters\n",
    "weight = 0.7\n",
    "bias = 0.3\n",
    "\n",
    "# Create data\n",
    "start = 0 \n",
    "end = 1\n",
    "step = 0.02\n",
    "X = torch.arange(start, end, step).unsqueeze(dim=1)\n",
    "y = weight * X + bias\n",
    "\n",
    "X[:10], y[:10]"
   ]
  },
  {
   "cell_type": "markdown",
   "metadata": {},
   "source": [
    "## Data splitting"
   ]
  },
  {
   "cell_type": "markdown",
   "metadata": {},
   "source": [
    "##### Now the next step is important, also known as the train-test-split.\n",
    "##### It is important to divide up the data into training and testing groups. \n",
    "##### The training data will be used to train our model and it will be used to predict the testing data to see how well our model learned.\n",
    "##### This is extremely necessary to prevent overfitting of our model, which could happen right under our nose if we do not take enough precautions. "
   ]
  },
  {
   "cell_type": "code",
   "execution_count": 98,
   "metadata": {},
   "outputs": [
    {
     "data": {
      "text/plain": [
       "(40, 40, 10, 10)"
      ]
     },
     "execution_count": 98,
     "metadata": {},
     "output_type": "execute_result"
    }
   ],
   "source": [
    "# Train-test-split\n",
    "train_split = int(0.8*len(X))\n",
    "X_train, y_train = X[:train_split], y[:train_split]\n",
    "X_test, y_test = X[train_split:], y[train_split:]\n",
    "\n",
    "len(X_train), len(y_train), len(X_test), len(y_test)"
   ]
  },
  {
   "cell_type": "markdown",
   "metadata": {},
   "source": [
    "##### So we will be using 40 of our datapoints (80%) to train our model and the remaining 10 data points (20%) to test our model.\n",
    "##### Let's first create a function that will help us visualize our training and testing data points."
   ]
  },
  {
   "cell_type": "code",
   "execution_count": 99,
   "metadata": {},
   "outputs": [],
   "source": [
    "def plot_predictions(X_train = X_train,\n",
    "                    y_train = y_train,\n",
    "                    X_test = X_test,\n",
    "                    y_test = y_test,\n",
    "                    predictions=None):\n",
    "\n",
    "    plt.figure(figsize=(16,10))\n",
    "\n",
    "    # Scatter plot the training data points\n",
    "    plt.scatter(X_train, y_train, c='b', s = 6, label='Training Data')\n",
    "\n",
    "    # Scatter plot the testing data points\n",
    "    plt.scatter(X_test, y_test, c='g', s=6, label='Testing data')\n",
    "\n",
    "    if predictions is not None:\n",
    "        plt.scatter(X_test, predictions, c= 'r', s=6, label='predictions')\n",
    "\n",
    "    plt.legend(prop={'size':14})"
   ]
  },
  {
   "cell_type": "code",
   "execution_count": 100,
   "metadata": {},
   "outputs": [
    {
     "data": {
      "image/png": "[encoded data removed]",
      "text/plain": [
       "<Figure size 1600x1000 with 1 Axes>"
      ]
     },
     "metadata": {},
     "output_type": "display_data"
    }
   ],
   "source": [
    "plot_predictions()"
   ]
  },
  {
   "cell_type": "markdown",
   "metadata": {},
   "source": [
    "##### Now by utilizing this function, we are now able to visualize our data points and hopefully check with our eyes the results of our predictions."
   ]
  },
  {
   "cell_type": "markdown",
   "metadata": {},
   "source": [
    "# Model"
   ]
  },
  {
   "cell_type": "markdown",
   "metadata": {},
   "source": [
    "##### Now, remember what we are trying to do.\n",
    "##### We are trying to learn from the blue dots to predict the green dots.\n",
    "##### Let's first create a very simple Linear Regression model class."
   ]
  },
  {
   "cell_type": "code",
   "execution_count": 101,
   "metadata": {},
   "outputs": [],
   "source": [
    "class LinearRegressionModel(nn.Module):\n",
    "    def __init__(self):\n",
    "        super().__init__()\n",
    "        self.weights = nn.Parameter(torch.randn(1, dtype=torch.float), # Start with random weights\n",
    "        requires_grad=True) # Making sure gradient descent works\n",
    "\n",
    "        self.bias = nn.Parameter(torch.randn(1, dtype=torch.float),\n",
    "        requires_grad=True)\n",
    "\n",
    "    # Forward Feed\n",
    "    def forward(self, x:torch.Tensor) -> torch.Tensor: # x is the input tensor and we expect our output to be a tensor too\n",
    "        return self.weights * x + self.bias # linear regression formula\n",
    "\n",
    "\"\"\" # Using nn.Linear() \n",
    "class LinearRegressionModelV2(nn.Module):\n",
    "    def __init__(self):\n",
    "        super().__init__()\n",
    "        \n",
    "        self.linear_layer = nn.Linear(in_features=1, \n",
    "                                      out_features=1)\n",
    "    \n",
    "    def forward(self, x: torch.Tensor) -> torch.Tensor:\n",
    "        return self.linear_layer(x)\n",
    "\"\"\""
   ]
  },
  {
   "cell_type": "markdown",
   "metadata": {},
   "source": [
    "## PyTorch model buildng essentials"
   ]
  },
  {
   "cell_type": "markdown",
   "metadata": {},
   "source": [
    "##### For PyTorch, python classes are used extensively to create bits and pieces for building neural networks.\n",
    "##### So PyTorch has four essential modeuls that is used to create any kind of neural network.\n",
    "##### They are:\n",
    "1) torch.nn\n",
    "2) torch.optim\n",
    "3) torch.utils.data.Dataset\n",
    "4) torch.utils.data.DataLoader\n",
    "##### Additionally, the torch.nn.Module is the base class for all neural network modules.\n",
    "##### They are the building blocks for neural networks.\n",
    "##### They require the forward() method to be implemented\n",
    "##### We can see this in the code block above.\n",
    "##### Also, nn.Parameter contains the smaller parameters like weights nad biases and torch.optim will help with the optimization methods to improve these parameters to obtain the most effective values."
   ]
  },
  {
   "cell_type": "markdown",
   "metadata": {},
   "source": [
    "## Checking contents of PyTorch model"
   ]
  },
  {
   "cell_type": "code",
   "execution_count": 102,
   "metadata": {},
   "outputs": [
    {
     "data": {
      "text/plain": [
       "[Parameter containing:\n",
       " tensor([0.3367], requires_grad=True),\n",
       " Parameter containing:\n",
       " tensor([0.1288], requires_grad=True)]"
      ]
     },
     "execution_count": 102,
     "metadata": {},
     "output_type": "execute_result"
    }
   ],
   "source": [
    "torch.manual_seed(42) # For reproducability\n",
    "\n",
    "model_0 = LinearRegressionModel()\n",
    "\n",
    "list(model_0.parameters())"
   ]
  },
  {
   "cell_type": "code",
   "execution_count": 103,
   "metadata": {},
   "outputs": [
    {
     "data": {
      "text/plain": [
       "OrderedDict([('weights', tensor([0.3367])), ('bias', tensor([0.1288]))])"
      ]
     },
     "execution_count": 103,
     "metadata": {},
     "output_type": "execute_result"
    }
   ],
   "source": [
    "model_0.state_dict()"
   ]
  },
  {
   "cell_type": "markdown",
   "metadata": {},
   "source": [
    "##### These weights and biases are randomized and would thus not prove to be effective in our predictions."
   ]
  },
  {
   "cell_type": "markdown",
   "metadata": {},
   "source": [
    "## Making predictions"
   ]
  },
  {
   "cell_type": "markdown",
   "metadata": {},
   "source": [
    "##### With PyTorch, we can use the **torch.inference_mode()**.\n",
    "##### This is simply telling the PyTorch we are just passing inputs into our model but for testing purposes. \n",
    "##### This is helpful to the model because it knows that it does not need to keep track of the gradients. \n",
    "##### To pass in our inputs, we just need to pass them as the model's parameter and it would go through the forwards() method automatically."
   ]
  },
  {
   "cell_type": "code",
   "execution_count": 104,
   "metadata": {},
   "outputs": [],
   "source": [
    "with torch.inference_mode():\n",
    "    y_preds = model_0(X_test)"
   ]
  },
  {
   "cell_type": "markdown",
   "metadata": {},
   "source": [
    "##### Let us check our predictions."
   ]
  },
  {
   "cell_type": "code",
   "execution_count": 105,
   "metadata": {},
   "outputs": [
    {
     "name": "stdout",
     "output_type": "stream",
     "text": [
      "Number of testing samples: 10\n",
      "Number of predictions made: 10\n",
      "Predicted Values: \n",
      "tensor([[0.3982],\n",
      "        [0.4049],\n",
      "        [0.4116],\n",
      "        [0.4184],\n",
      "        [0.4251],\n",
      "        [0.4318],\n",
      "        [0.4386],\n",
      "        [0.4453],\n",
      "        [0.4520],\n",
      "        [0.4588]])\n"
     ]
    }
   ],
   "source": [
    "print(f\"Number of testing samples: {len(X_test)}\")\n",
    "print(f\"Number of predictions made: {len(y_preds)}\")\n",
    "print(f\"Predicted Values: \\n{y_preds}\")"
   ]
  },
  {
   "cell_type": "markdown",
   "metadata": {},
   "source": [
    "##### Let's see how these values compare with the actual test values."
   ]
  },
  {
   "cell_type": "code",
   "execution_count": 106,
   "metadata": {},
   "outputs": [
    {
     "data": {
      "image/png": "[encoded data removed]",
      "text/plain": [
       "<Figure size 1600x1000 with 1 Axes>"
      ]
     },
     "metadata": {},
     "output_type": "display_data"
    }
   ],
   "source": [
    "plot_predictions(predictions=y_preds)"
   ]
  },
  {
   "cell_type": "markdown",
   "metadata": {},
   "source": [
    "##### As we can see, and as we expected, the predictions are pretty horrendous.\n",
    "##### The red points are nowhere near the green dots.\n",
    "##### But obviously, with random values, this is to be expected. \n",
    "##### Now let us train our model."
   ]
  },
  {
   "cell_type": "markdown",
   "metadata": {},
   "source": [
    "# Train Model"
   ]
  },
  {
   "cell_type": "markdown",
   "metadata": {},
   "source": [
    "##### Now instead of random values for our weights and biases, let us train the model to help it find the optimal values for them."
   ]
  },
  {
   "cell_type": "markdown",
   "metadata": {},
   "source": [
    "## Loss Function & Optimizer"
   ]
  },
  {
   "cell_type": "markdown",
   "metadata": {},
   "source": [
    "#### What is a loss function?\n",
    "##### It is a way to tell the machine how wrong their predicted values are compared to the actual values. \n",
    "#### What are optimizers? \n",
    "##### They tell the model how to update its internal parameters to converge to the most optimal values.\n",
    "\n",
    "\n",
    "##### There are myriad of loss functions and optimizers out there but let us utilize the MAE (Mean Abosolute Error) for our example since we are carrying out a linear regression problem.\n",
    "\n",
    "##### For our optimizer, we will use the SGD (Stochastic Gradient Descent), torch.optim.SGD."
   ]
  },
  {
   "cell_type": "code",
   "execution_count": 107,
   "metadata": {},
   "outputs": [],
   "source": [
    "# Loss Function\n",
    "loss_fn = nn.L1Loss() # MAE Loss\n",
    "\n",
    "# Optimizer\n",
    "optimizer = torch.optim.SGD(params=model_0.parameters(),\n",
    "                            lr = 0.01)"
   ]
  },
  {
   "cell_type": "markdown",
   "metadata": {},
   "source": [
    "## Optimization Loop"
   ]
  },
  {
   "cell_type": "markdown",
   "metadata": {},
   "source": [
    "##### The training loop is a process that involves going through the training data and learning the relationship between the features and labels.\n",
    "##### The testing loop involves going through the testing data and evaluating how good our model is and how much it learnt from the training data."
   ]
  },
  {
   "cell_type": "markdown",
   "metadata": {},
   "source": [
    "##### So the essential training loop will look something like this. \n",
    "1) Forward pass\n",
    "2) Calculate the loss\n",
    "3) Zero gradients - optimizers' gradients are set to zero \n",
    "4) Perform backpropagation on the loss - calculate the gradient of the loss w.r.t every model parameter\n",
    "5) Update the optimizer (Gradient Descent)"
   ]
  },
  {
   "cell_type": "markdown",
   "metadata": {},
   "source": [
    "##### The testing loop will look something like this.\n",
    "1) Forward pass\n",
    "2) Calculate the loss\n",
    "3) Calculate evaluation metric (optional)"
   ]
  },
  {
   "cell_type": "markdown",
   "metadata": {},
   "source": [
    "##### It is important that you notice that there are no backpropagation or stepping the optimizer in the testing loop. \n",
    "##### This is because the parameters are not to be touched with in this testing loop."
   ]
  },
  {
   "cell_type": "markdown",
   "metadata": {},
   "source": [
    "##### Now let us put all of that together and train our model for 100 **epochs** and we will evaluate for every 10 epochs to see how our model is faring."
   ]
  },
  {
   "cell_type": "code",
   "execution_count": 108,
   "metadata": {},
   "outputs": [
    {
     "name": "stdout",
     "output_type": "stream",
     "text": [
      "Epoch: 0 | MAE Train Loss: 0.31288138031959534 | MAE Test Loss: 0.48106518387794495\n",
      "Epoch: 10 | MAE Train Loss: 0.1976713240146637 | MAE Test Loss: 0.3463551998138428\n",
      "Epoch: 20 | MAE Train Loss: 0.08908725529909134 | MAE Test Loss: 0.21729660034179688\n",
      "Epoch: 30 | MAE Train Loss: 0.053148526698350906 | MAE Test Loss: 0.14464017748832703\n",
      "Epoch: 40 | MAE Train Loss: 0.04543796554207802 | MAE Test Loss: 0.11360953003168106\n",
      "Epoch: 50 | MAE Train Loss: 0.04167863354086876 | MAE Test Loss: 0.09919948130846024\n",
      "Epoch: 60 | MAE Train Loss: 0.03818932920694351 | MAE Test Loss: 0.08886633068323135\n",
      "Epoch: 70 | MAE Train Loss: 0.03476089984178543 | MAE Test Loss: 0.0805937647819519\n",
      "Epoch: 80 | MAE Train Loss: 0.03132382780313492 | MAE Test Loss: 0.07232122868299484\n",
      "Epoch: 90 | MAE Train Loss: 0.02788740023970604 | MAE Test Loss: 0.06473556160926819\n"
     ]
    }
   ],
   "source": [
    "torch.manual_seed(42)\n",
    "\n",
    "epochs = 100\n",
    "\n",
    "train_loss_values = []\n",
    "test_loss_values = []\n",
    "epoch_count = []\n",
    "\n",
    "for epoch in range(epochs):\n",
    "    # Training \n",
    "\n",
    "    model_0.train() # Training mode (default mode)\n",
    "\n",
    "    y_pred = model_0(X_train)\n",
    "\n",
    "    loss = loss_fn(y_pred, y_train) # Calculate the loss value\n",
    "\n",
    "    optimizer.zero_grad() # Zero the gradient of the optimizer\n",
    "\n",
    "    loss.backward() # Backpropagation starts\n",
    "\n",
    "    optimizer.step()\n",
    "\n",
    "    # Testing\n",
    "\n",
    "    model_0.eval() # Evaluation mode\n",
    "\n",
    "    with torch.inference_mode():\n",
    "        test_pred = model_0(X_test)\n",
    "\n",
    "        test_loss = loss_fn(test_pred, y_test.type(torch.float))\n",
    "\n",
    "        if epoch%10 == 0:\n",
    "            epoch_count.append(epoch)\n",
    "            train_loss_values.append(loss.detach().numpy())\n",
    "            test_loss_values.append(test_loss.detach().numpy())\n",
    "            print(f\"Epoch: {epoch} | MAE Train Loss: {loss} | MAE Test Loss: {test_loss}\")"
   ]
  },
  {
   "cell_type": "markdown",
   "metadata": {},
   "source": [
    "##### Let's see how our train and test loss progresses."
   ]
  },
  {
   "cell_type": "code",
   "execution_count": 109,
   "metadata": {},
   "outputs": [
    {
     "data": {
      "text/plain": [
       "<matplotlib.legend.Legend at 0x2810cace0>"
      ]
     },
     "execution_count": 109,
     "metadata": {},
     "output_type": "execute_result"
    },
    {
     "data": {
      "image/png": "[encoded data removed]",
      "text/plain": [
       "<Figure size 640x480 with 1 Axes>"
      ]
     },
     "metadata": {},
     "output_type": "display_data"
    }
   ],
   "source": [
    "plt.plot(epoch_count, train_loss_values, label='Train Loss')\n",
    "plt.plot(epoch_count, test_loss_values, label='Test Loss')\n",
    "plt.title(\"Training and Test Loss Curves\")\n",
    "plt.ylabel(\"Loss\")\n",
    "plt.xlabel(\"Epochs\")\n",
    "plt.legend()"
   ]
  },
  {
   "cell_type": "markdown",
   "metadata": {},
   "source": [
    "##### As any machine learning enthusiast will tell you, that is some fabulous feat!"
   ]
  },
  {
   "cell_type": "markdown",
   "metadata": {},
   "source": [
    "##### We can check at the optimal values for our weights and biases if we are interested."
   ]
  },
  {
   "cell_type": "code",
   "execution_count": 110,
   "metadata": {},
   "outputs": [
    {
     "name": "stdout",
     "output_type": "stream",
     "text": [
      "The model learned the following weights and biases:\n",
      "OrderedDict([('weights', tensor([0.5784])), ('bias', tensor([0.3513]))])\n"
     ]
    }
   ],
   "source": [
    "print(\"The model learned the following weights and biases:\")\n",
    "print(model_0.state_dict())"
   ]
  },
  {
   "cell_type": "markdown",
   "metadata": {},
   "source": [
    "##### This is the real, foundational basic workings of PyTorch models!"
   ]
  },
  {
   "cell_type": "markdown",
   "metadata": {},
   "source": [
    "# Making Predictions"
   ]
  },
  {
   "cell_type": "markdown",
   "metadata": {},
   "source": [
    "##### Now with our model created, we can go ahead and make predictions to the input data that we are interested in.\n",
    "##### We need to remember these three factors before we do so:\n",
    "1) Set the model in eval mode; model.eval()\n",
    "\n",
    "2) Make predictions using the inference mode context manager (torch.inference_mode())\n",
    "3) All predictions should be made with objects on the same device (CPU or GPU)"
   ]
  },
  {
   "cell_type": "code",
   "execution_count": 111,
   "metadata": {},
   "outputs": [
    {
     "data": {
      "text/plain": [
       "tensor([[0.8141],\n",
       "        [0.8256],\n",
       "        [0.8372],\n",
       "        [0.8488],\n",
       "        [0.8603],\n",
       "        [0.8719],\n",
       "        [0.8835],\n",
       "        [0.8950],\n",
       "        [0.9066],\n",
       "        [0.9182]])"
      ]
     },
     "execution_count": 111,
     "metadata": {},
     "output_type": "execute_result"
    }
   ],
   "source": [
    "model_0.eval()\n",
    "\n",
    "with torch.inference_mode(): # Asks the model not to keep track of the gradients\n",
    "    y_preds = model_0(X_test)\n",
    "\n",
    "y_preds"
   ]
  },
  {
   "cell_type": "code",
   "execution_count": 112,
   "metadata": {},
   "outputs": [
    {
     "data": {
      "image/png": "[encoded data removed]",
      "text/plain": [
       "<Figure size 1600x1000 with 1 Axes>"
      ]
     },
     "metadata": {},
     "output_type": "display_data"
    }
   ],
   "source": [
    "plot_predictions(predictions=y_preds)"
   ]
  },
  {
   "cell_type": "markdown",
   "metadata": {},
   "source": [
    "##### That is pretty close to the actual values!\n",
    "##### Good job!"
   ]
  }
 ],
 "metadata": {
  "kernelspec": {
   "display_name": "Python 3.10.8 ('pytorch': venv)",
   "language": "python",
   "name": "python3"
  },
  "language_info": {
   "codemirror_mode": {
    "name": "ipython",
    "version": 3
   },
   "file_extension": ".py",
   "mimetype": "text/x-python",
   "name": "python",
   "nbconvert_exporter": "python",
   "pygments_lexer": "ipython3",
   "version": "3.10.8"
  },
  "orig_nbformat": 4,
  "vscode": {
   "interpreter": {
    "hash": "40ceb6fe12160d1b46a968bef1533ff09c8e7e4d23d39b120682f3311adef91d"
   }
  }
 },
 "nbformat": 4,
 "nbformat_minor": 2
}
